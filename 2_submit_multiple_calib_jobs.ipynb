{
 "cells": [
  {
   "cell_type": "markdown",
   "id": "15320831-d54d-43e6-a86c-2e3cbaa9c9b6",
   "metadata": {},
   "source": [
    "This code submits a priori model run for each gauge. "
   ]
  },
  {
   "cell_type": "code",
   "execution_count": 2,
   "id": "993a0a6e-0853-4683-8963-29eaafd1fb4a",
   "metadata": {},
   "outputs": [],
   "source": [
    "import os,shutil\n",
    "import pandas as pd\n",
    "import numpy as np"
   ]
  },
  {
   "cell_type": "code",
   "execution_count": 3,
   "id": "7fd25779-a84c-49da-a51b-c5ee4b650703",
   "metadata": {},
   "outputs": [],
   "source": [
    "root_dir = '/home/h294liu/project/proj/7_nelson'\n",
    "gauge_csv = os.path.join(root_dir,'Flow_data/Phase_0&1_Natural/Natural_gauge_stn_info_calib_phase_0&1.csv')\n",
    "gauge_df = pd.read_csv(gauge_csv)\n",
    "\n",
    "current_path=os.getcwd()\n",
    "output_basedir = '/home/h294liu/scratch/7_nelson/calib'\n",
    "\n",
    "# other settings\n",
    "simStartTime = '2000-01-02 00:00' # simulation period\n",
    "simEndTime = '2011-10-01 00:00'\n",
    "\n",
    "statStartTime = '2000-10-01' # statistics calculation period\n",
    "statEndTime = '2011-09-30'\n"
   ]
  },
  {
   "cell_type": "code",
   "execution_count": 13,
   "id": "15dbfc0e-822b-4838-82ef-93bba31aba42",
   "metadata": {},
   "outputs": [
    {
     "name": "stdout",
     "output_type": "stream",
     "text": [
      "---------------------------\n",
      "05AH037 DDS1\n",
      "---------------------------\n",
      "---------------------------\n",
      "05AH037 DDS2\n",
      "---------------------------\n",
      "---------------------------\n",
      "05AH037 DDS3\n",
      "---------------------------\n"
     ]
    }
   ],
   "source": [
    "gauge_df_cp = gauge_df.iloc[np.r_[8],:]\n",
    "calib_type = 'DDS'\n",
    "calib_num =3 \n",
    "\n",
    "for index, row in gauge_df_cp.iterrows():\n",
    "\n",
    "# for index, row in gauge_df.iterrows():\n",
    "    Gauge_ID = row['Gauge_ID']\n",
    "\n",
    "    # read upstream GRUs.\n",
    "    gauge_upstream_txt = os.path.join(root_dir, 'scripts/1_find_gauge_upstream_GRUs', \n",
    "                                      Gauge_ID, Gauge_ID+'_upstreamGRUs.txt')\n",
    "    upstream_grus = np.loadtxt(gauge_upstream_txt,dtype='str')\n",
    "    try:\n",
    "        upstream_grus = [int(upstream_grus)]\n",
    "    except:\n",
    "        upstream_grus = list(upstream_grus)\n",
    "    nGru = len(upstream_grus)\n",
    "\n",
    "    # read  drainage area, and segID.\n",
    "    gauge_seg_area_txt = os.path.join(root_dir, 'scripts/1_find_gauge_upstream_GRUs', \n",
    "                                      Gauge_ID, Gauge_ID+'_Seg_Area.txt')\n",
    "    data = np.loadtxt(gauge_seg_area_txt,dtype='str',delimiter='#',usecols=[0])\n",
    "    area,SegId = data[0],data[1]    \n",
    "    \n",
    "    # Make multiple calib individually\n",
    "    for calib_id in range(calib_num):\n",
    "        \n",
    "        print('---------------------------')\n",
    "        print(Gauge_ID, calib_type+str(calib_id+1))\n",
    "        print('---------------------------')\n",
    "\n",
    "        # work on gauge calib\n",
    "        calib_dir = os.path.join(output_basedir,Gauge_ID+'_'+calib_type+str(calib_id+1))\n",
    "        if not os.path.exists(calib_dir):\n",
    "            os.makedirs(calib_dir)  \n",
    "\n",
    "        # 1. generate a new control.tpl\n",
    "        src = os.path.join(current_path,'tpl','control_calib.tpl')\n",
    "        dst = os.path.join(current_path,'control_active.txt')\n",
    "        with open(src, 'r') as src:\n",
    "            with open(dst, 'w') as dst:\n",
    "                for line in src:\n",
    "                    # update path\n",
    "                    if ('xxxxxx' in line) and (\"domain_name\" in line):\n",
    "                        line = line.replace('xxxxxx', Gauge_ID+'_'+calib_type+str(calib_id+1)) \n",
    "                    elif ('xxxxxx' in line) and (\"model_src_path\" in line):\n",
    "                        line = line.replace('xxxxxx', Gauge_ID) \n",
    "                    elif 'NGRU' in line:\n",
    "                        line = line.replace('NGRU', str(nGru))  \n",
    "                    elif 'SIMSTARTTIME' in line:\n",
    "                        line = line.replace('SIMSTARTTIME', simStartTime)  \n",
    "                    elif 'SIMENDTIME' in line:\n",
    "                        line = line.replace('SIMENDTIME', simEndTime)  \n",
    "                    elif 'DOMAIN_AREA' in line:\n",
    "                        line = line.replace('DOMAIN_AREA', area)  \n",
    "                    elif 'Q_SEG_INDEX' in line:\n",
    "                        line = line.replace('Q_SEG_INDEX', SegId)\n",
    "                    elif 'STATSTARTTIME' in line:\n",
    "                        line = line.replace('STATSTARTTIME', statStartTime)  \n",
    "                    elif 'STATENDTIME' in line:\n",
    "                        line = line.replace('STATENDTIME', statEndTime)  \n",
    "                    dst.write(line)\n",
    "\n",
    "        # 2. generate a new scripts/submit_run_Ostrich.sh\n",
    "\n",
    "        # There are two criteria when generating nCount and nTask.  \n",
    "        # Set 2 days as time limit. Then calcualte nMaxIter.\n",
    "\n",
    "        # first, try to use a fixed nCount.\n",
    "        nCount = 10 #25\n",
    "        nTask = int(np.ceil(nGru/float(nCount)))  # --ntasks\n",
    "        nMaxIter = 250                            # max number of iterations for DDS\n",
    "\n",
    "        nMM  = int(10 + 2.5*nCount)*nMaxIter # --time (in minute) # Assume 3min per GRU for 2000-2011. 20min for others.\n",
    "        nMem = int(500 + 5*nCount)           # --mem-per-cpu (in MB) # Assume 5MB per GRU. 500MB for others.\n",
    "\n",
    "        # second, further reduce time based on nGru<>nCount\n",
    "        if nGru<nCount:\n",
    "            nMM  = int(10 + 2*nGru)*nMaxIter\n",
    "\n",
    "        # third, avoid nTask too large.\n",
    "        if nTask>110:\n",
    "            nCount = 85 #100\n",
    "            nTask = int(np.ceil(nGru/float(nCount)))  # --ntasks. eg., for the entire domain, ntask = 292.\n",
    "            nMaxIter = 100\n",
    "            nMM  = int(60)*nMaxIter  # --time (in minute) # Assume 4min per GRU for 2000-2011. 10min for others.\n",
    "            nMem = int(4000) # --mem-per-cpu (in MB) # Assume 5MB per GRU. 350MB for others.\n",
    "\n",
    "        src = os.path.join(current_path,'tpl','submit_run_Ostrich.sh')\n",
    "        dst = os.path.join(current_path,'scripts','submit_run_Ostrich.sh')\n",
    "        with open(src, 'r') as src:\n",
    "            with open(dst, 'w') as dst:\n",
    "                for line in src:\n",
    "                    if 'NTASK' in line:\n",
    "                        line = line.replace('NTASK', str(nTask))  \n",
    "                    elif 'MM' in line:\n",
    "                        line = line.replace('MM', str(nMM))  \n",
    "                    elif 'MEMX' in line:\n",
    "                        line = line.replace('MEMX', str(nMem))  \n",
    "                    elif 'JOBNAME' in line:\n",
    "                        line = line.replace('JOBNAME', Gauge_ID+'calib'+str(calib_id+1))  \n",
    "                    dst.write(line)\n",
    "\n",
    "        # 3. generate a new scripts/make_summa_run_list.sh\n",
    "        src = os.path.join(current_path,'tpl','make_summa_run_list.sh')\n",
    "        dst = os.path.join(current_path,'scripts','make_summa_run_list.sh')\n",
    "        with open(src, 'r') as src:\n",
    "            with open(dst, 'w') as dst:\n",
    "                for line in src:                                    \n",
    "                    if 'nGRU' in line:\n",
    "                        line = line.replace('nGRU', str(nGru))  \n",
    "                    elif 'nCount' in line:\n",
    "                        line = line.replace('nCount', str(nCount))\n",
    "                    elif 'nTask' in line:\n",
    "                        line = line.replace('nTask', str(nTask))                  \n",
    "                    dst.write(line)\n",
    "                \n",
    "        # 4. ./run_prepare_calib.sh with updated file1 and file2\n",
    "        os.system('./1_run_prepare_calib.sh')\n",
    "\n",
    "        # 5. copy OstModel.txt if it exists in old calib folder\n",
    "        ostModel_src = os.path.join(output_basedir,Gauge_ID,'calib/OstModel0.txt')\n",
    "        ostModel_dst = os.path.join(calib_dir,'calib/OstModel0.txt')\n",
    "        shutil.copyfile(ostModel_src, ostModel_dst)\n",
    "\n",
    "    #     # 6. submit a job\n",
    "    #     os.chdir(os.path.join(calib_dir,'calib'))\n",
    "    #     os.system('sbatch submit_run_Ostrich.sh')   \n",
    "    #     os.chdir(current_path)\n"
   ]
  },
  {
   "cell_type": "code",
   "execution_count": 9,
   "id": "f5455956-7a1f-403d-8399-352ecf016d21",
   "metadata": {},
   "outputs": [
    {
     "data": {
      "text/plain": [
       "'/home/h294liu/scratch/7_nelson/calib/05AH037_DDS1'"
      ]
     },
     "execution_count": 9,
     "metadata": {},
     "output_type": "execute_result"
    }
   ],
   "source": [
    "calib_dir"
   ]
  },
  {
   "cell_type": "code",
   "execution_count": 6,
   "id": "a8e377ca-ac0f-4367-acf1-2169d9b00c66",
   "metadata": {},
   "outputs": [],
   "source": [
    "ostModel_dst = os.path.join(calib_dir,'calib/')"
   ]
  },
  {
   "cell_type": "code",
   "execution_count": 7,
   "id": "9af665e9-cdb3-4946-bbf1-8d75c7075519",
   "metadata": {},
   "outputs": [
    {
     "ename": "IsADirectoryError",
     "evalue": "[Errno 21] Is a directory: '/home/h294liu/scratch/7_nelson/calib/05AH037_DDS1/calib/'",
     "output_type": "error",
     "traceback": [
      "\u001b[0;31m---------------------------------------------------------------------------\u001b[0m",
      "\u001b[0;31mIsADirectoryError\u001b[0m                         Traceback (most recent call last)",
      "\u001b[0;32m<ipython-input-7-d332d323612f>\u001b[0m in \u001b[0;36m<module>\u001b[0;34m\u001b[0m\n\u001b[0;32m----> 1\u001b[0;31m \u001b[0mshutil\u001b[0m\u001b[0;34m.\u001b[0m\u001b[0mcopyfile\u001b[0m\u001b[0;34m(\u001b[0m\u001b[0mostModel_src\u001b[0m\u001b[0;34m,\u001b[0m \u001b[0mostModel_dst\u001b[0m\u001b[0;34m)\u001b[0m\u001b[0;34m\u001b[0m\u001b[0;34m\u001b[0m\u001b[0m\n\u001b[0m",
      "\u001b[0;32m~/tools/miniconda3/envs/hl-env/lib/python3.8/shutil.py\u001b[0m in \u001b[0;36mcopyfile\u001b[0;34m(src, dst, follow_symlinks)\u001b[0m\n\u001b[1;32m    262\u001b[0m         \u001b[0mos\u001b[0m\u001b[0;34m.\u001b[0m\u001b[0msymlink\u001b[0m\u001b[0;34m(\u001b[0m\u001b[0mos\u001b[0m\u001b[0;34m.\u001b[0m\u001b[0mreadlink\u001b[0m\u001b[0;34m(\u001b[0m\u001b[0msrc\u001b[0m\u001b[0;34m)\u001b[0m\u001b[0;34m,\u001b[0m \u001b[0mdst\u001b[0m\u001b[0;34m)\u001b[0m\u001b[0;34m\u001b[0m\u001b[0;34m\u001b[0m\u001b[0m\n\u001b[1;32m    263\u001b[0m     \u001b[0;32melse\u001b[0m\u001b[0;34m:\u001b[0m\u001b[0;34m\u001b[0m\u001b[0;34m\u001b[0m\u001b[0m\n\u001b[0;32m--> 264\u001b[0;31m         \u001b[0;32mwith\u001b[0m \u001b[0mopen\u001b[0m\u001b[0;34m(\u001b[0m\u001b[0msrc\u001b[0m\u001b[0;34m,\u001b[0m \u001b[0;34m'rb'\u001b[0m\u001b[0;34m)\u001b[0m \u001b[0;32mas\u001b[0m \u001b[0mfsrc\u001b[0m\u001b[0;34m,\u001b[0m \u001b[0mopen\u001b[0m\u001b[0;34m(\u001b[0m\u001b[0mdst\u001b[0m\u001b[0;34m,\u001b[0m \u001b[0;34m'wb'\u001b[0m\u001b[0;34m)\u001b[0m \u001b[0;32mas\u001b[0m \u001b[0mfdst\u001b[0m\u001b[0;34m:\u001b[0m\u001b[0;34m\u001b[0m\u001b[0;34m\u001b[0m\u001b[0m\n\u001b[0m\u001b[1;32m    265\u001b[0m             \u001b[0;31m# macOS\u001b[0m\u001b[0;34m\u001b[0m\u001b[0;34m\u001b[0m\u001b[0;34m\u001b[0m\u001b[0m\n\u001b[1;32m    266\u001b[0m             \u001b[0;32mif\u001b[0m \u001b[0m_HAS_FCOPYFILE\u001b[0m\u001b[0;34m:\u001b[0m\u001b[0;34m\u001b[0m\u001b[0;34m\u001b[0m\u001b[0m\n",
      "\u001b[0;31mIsADirectoryError\u001b[0m: [Errno 21] Is a directory: '/home/h294liu/scratch/7_nelson/calib/05AH037_DDS1/calib/'"
     ]
    }
   ],
   "source": [
    "shutil.copyfile(ostModel_src, ostModel_dst)"
   ]
  },
  {
   "cell_type": "code",
   "execution_count": 8,
   "id": "65783bcc-1cb3-451c-94c4-e0c5152b1abf",
   "metadata": {},
   "outputs": [
    {
     "data": {
      "text/plain": [
       "'/home/h294liu/scratch/7_nelson/calib/05AH037_DDS1'"
      ]
     },
     "execution_count": 8,
     "metadata": {},
     "output_type": "execute_result"
    }
   ],
   "source": [
    "calib_dir"
   ]
  },
  {
   "cell_type": "code",
   "execution_count": null,
   "id": "3081eeb5-9fee-4857-a0b1-79b56ae5f9b1",
   "metadata": {},
   "outputs": [],
   "source": []
  }
 ],
 "metadata": {
  "kernelspec": {
   "display_name": "hl-env",
   "language": "python",
   "name": "hl-env"
  },
  "language_info": {
   "codemirror_mode": {
    "name": "ipython",
    "version": 3
   },
   "file_extension": ".py",
   "mimetype": "text/x-python",
   "name": "python",
   "nbconvert_exporter": "python",
   "pygments_lexer": "ipython3",
   "version": "3.8.10"
  }
 },
 "nbformat": 4,
 "nbformat_minor": 5
}
