{
 "cells": [
  {
   "cell_type": "markdown",
   "id": "e7fa2320",
   "metadata": {},
   "source": [
    "#### Create a priori trial parameter file (trialParam.priori.nc) ####\n",
    "Given a list of to-be-evaluated parameters, create their corresponding a priori parameter values. \n",
    "1. update outputControl.txt by adding parameter names.\n",
    "2. update fileManager.txt by changing simStartTime and simEndTime.\n",
    "2. run SUMMA model to get a priori parameter values in summa output.\n",
    "3. extract a priori parameter values from summa output and generate trialParam.priori.nc."
   ]
  },
  {
   "cell_type": "code",
   "execution_count": 1,
   "id": "46697e9d",
   "metadata": {},
   "outputs": [],
   "source": [
    "# import module\n",
    "import os\n",
    "import shutil\n",
    "from datetime import datetime\n",
    "import functions.utils as ut\n",
    "import netCDF4 as nc\n",
    "import sys\n",
    "import numpy as np"
   ]
  },
  {
   "cell_type": "code",
   "execution_count": 2,
   "id": "4dab24aa",
   "metadata": {},
   "outputs": [],
   "source": [
    "# read paths from control_file\n",
    "control_file = 'control_active.txt'\n",
    "root_path = ut.read_from_control(control_file, 'root_path')\n",
    "domain_name = ut.read_from_control(control_file, 'domain_name')\n",
    "domain_path = os.path.join(root_path, domain_name)"
   ]
  },
  {
   "cell_type": "code",
   "execution_count": 3,
   "id": "3ef1a53e",
   "metadata": {},
   "outputs": [],
   "source": [
    "# read new hydrologic model path\n",
    "model_dst_path = ut.read_from_control(control_file, 'model_dst_path')\n",
    "if model_dst_path == 'default':\n",
    "    model_dst_path = os.path.join(domain_path, 'model')\n",
    "summa_setting_path = os.path.join(model_dst_path, 'settings/SUMMA')"
   ]
  },
  {
   "cell_type": "markdown",
   "id": "0e53c4e0",
   "metadata": {},
   "source": [
    "#### 1. Update outputControl.txt by adding parameter names."
   ]
  },
  {
   "cell_type": "code",
   "execution_count": 4,
   "id": "acfef09f",
   "metadata": {},
   "outputs": [
    {
     "name": "stdout",
     "output_type": "stream",
     "text": [
      "k_macropore True\n",
      "k_soil True\n",
      "theta_sat True\n",
      "aquiferBaseflowExp True\n",
      "aquiferBaseflowRate True\n",
      "qSurfScale True\n",
      "summerLAI True\n",
      "frozenPrecipMultip True\n",
      "heightCanopyBottom True\n",
      "heightCanopyTop True\n",
      "routingGammaScale True\n",
      "routingGammaShape True\n",
      "Fcapil True\n",
      "theta_res True\n",
      "critSoilWilting True\n",
      "critSoilTranspire True\n",
      "fieldCapacity True\n"
     ]
    }
   ],
   "source": [
    "object_params = ut.read_from_control(control_file, 'object_parameters')  # users provided object params\n",
    "output_params = [x.strip() for x in object_params.split(',')]        # a more complete list of params that should be output in a priori parameter file \n",
    "\n",
    "# add more parameters if soil water content parameters are included in object_params.\n",
    "if 'theta_sat' in object_params:\n",
    "    for add_param in ['theta_res', 'critSoilWilting', 'critSoilTranspire', 'fieldCapacity']:\n",
    "        if not add_param in object_params:\n",
    "            output_params.append(add_param)            \n",
    "\n",
    "# identify outputControl.txt and a temporary file.       \n",
    "summa_outputControl = ut.read_from_control(control_file, 'summa_outputControl')\n",
    "summa_outputControl_temp = summa_outputControl.split('.txt')[0]+'_temp.txt'\n",
    "\n",
    "summa_outputControl = os.path.join(summa_setting_path, summa_outputControl)\n",
    "summa_outputControl_temp = os.path.join(summa_setting_path, summa_outputControl_temp)\n",
    "\n",
    "# add output_params to outputControl.txt            \n",
    "with open(summa_outputControl, 'r') as src:\n",
    "    content = src.read()\n",
    "    with open(summa_outputControl_temp, 'w') as dst:\n",
    "        for param in output_params:\n",
    "            print(param, param in content)\n",
    "            if not param in content:\n",
    "                dst.write(param)\n",
    "                dst.write('\\n')\n",
    "        dst.write(content)\n",
    "shutil.copy2(summa_outputControl_temp, summa_outputControl);\n",
    "os.remove(summa_outputControl_temp);"
   ]
  },
  {
   "cell_type": "markdown",
   "id": "70e68a34",
   "metadata": {},
   "source": [
    "#### 2. Update fileManager.txt by changing simStartTime and simEndTime. "
   ]
  },
  {
   "cell_type": "code",
   "execution_count": 5,
   "id": "6b686ff7",
   "metadata": {},
   "outputs": [],
   "source": [
    "simStartTime_priori = ut.read_from_control(control_file, 'simStartTime_priori')\n",
    "simEndTime_priori = ut.read_from_control(control_file, 'simEndTime_priori')\n",
    "\n",
    "# identify fileManager.txt and a temporary file. \n",
    "summa_filemanager = ut.read_from_control(control_file, 'summa_filemanager')\n",
    "summa_filemanager_temp = summa_filemanager.split('.txt')[0]+'_temp.txt'\n",
    "\n",
    "summa_filemanager = os.path.join(summa_setting_path, summa_filemanager)\n",
    "summa_filemanager_temp = os.path.join(summa_setting_path, summa_filemanager_temp)\n",
    "\n",
    "# change sim times in fileManager.txt            \n",
    "with open(summa_filemanager, 'r') as src:\n",
    "    with open(summa_filemanager_temp, 'w') as dst:\n",
    "        for line in src:\n",
    "            if line.startswith('simStartTime'):\n",
    "                simStartTime_old = line.split('!',1)[0].strip().split(None,1)[1]\n",
    "                line = line.replace(simStartTime_old, simStartTime_priori)\n",
    "            elif line.startswith('simEndTime'):\n",
    "                simEndTime_old = line.split('!',1)[0].strip().split(None,1)[1]\n",
    "                line = line.replace(simEndTime_old, simEndTime_priori)\n",
    "            dst.write(line)\n",
    "shutil.copy2(summa_filemanager_temp, summa_filemanager);\n",
    "os.remove(summa_filemanager_temp);"
   ]
  },
  {
   "cell_type": "markdown",
   "id": "75b50cc6-0eac-4774-9075-ccae386b0723",
   "metadata": {},
   "source": [
    "#### 3. Run SUMMA model to get a priori parameter values in summa output."
   ]
  },
  {
   "cell_type": "code",
   "execution_count": 6,
   "id": "1b61a668-0eb6-4502-aa24-7d34949cfa26",
   "metadata": {},
   "outputs": [
    {
     "name": "stdout",
     "output_type": "stream",
     "text": [
      "outputPath does not exist. Create it.\n"
     ]
    },
    {
     "data": {
      "text/plain": [
       "0"
      ]
     },
     "execution_count": 6,
     "metadata": {},
     "output_type": "execute_result"
    }
   ],
   "source": [
    "# summa executable and settings paths \n",
    "summa_exe_path = ut.read_from_control(control_file, 'summa_exe_path')\n",
    "\n",
    "# create summa output path if it does not exist.\n",
    "with open(summa_filemanager, 'r') as src:\n",
    "    for line in src:\n",
    "        if line.startswith('outputPath'):\n",
    "            outputPath = line.split('!',1)[0].strip().split(None,1)[1]\n",
    "            outputPath = outputPath.strip(\"\\'\") # remove ' in string begin and end\n",
    "            break\n",
    "if not os.path.exists(outputPath):\n",
    "    print('outputPath does not exist. Create it.')\n",
    "    os.makedirs(outputPath)\n",
    "\n",
    "# run SUMMA\n",
    "cmd = summa_exe_path + ' -m '+ summa_filemanager\n",
    "os.system(cmd)"
   ]
  },
  {
   "cell_type": "markdown",
   "id": "62448734-1500-4631-80b4-27d1df575812",
   "metadata": {},
   "source": [
    "#### 4. Extract a priori parameter values from summa output and generate trialParam.priori.nc."
   ]
  },
  {
   "cell_type": "code",
   "execution_count": 7,
   "id": "34a9360a-5f33-452e-b5bc-e0b15ad22252",
   "metadata": {},
   "outputs": [],
   "source": [
    "# specify summa output, attribtue, and trialParam files\n",
    "summa_ofile = os.path.join(outputPath, 'run1_timestep.nc')\n",
    "\n",
    "summa_trialParams = ut.read_from_control(control_file, 'summa_trialParams')\n",
    "summa_trialParams_priori =ut.read_from_control(control_file, 'summa_trialParams_priori') # a priori param file\n",
    "\n",
    "summa_trialParams = os.path.join(summa_setting_path, summa_trialParams)\n",
    "summa_trialParams_priori = os.path.join(summa_setting_path, summa_trialParams_priori)\n",
    "\n",
    "summa_attributes = ut.read_from_control(control_file, 'summa_attributes')\n",
    "summa_attributes = os.path.join(summa_setting_path, summa_attributes)"
   ]
  },
  {
   "cell_type": "code",
   "execution_count": 8,
   "id": "661e152e-f99e-4b6c-b73d-112d3b89557b",
   "metadata": {},
   "outputs": [],
   "source": [
    "# open summa output file for reading\n",
    "with nc.Dataset(summa_ofile, 'r') as ff:\n",
    "    \n",
    "    # if summa_trialParams does not exist, create summa_trialParams based on summa_attributes.\n",
    "    if not os.path.exists(summa_trialParams):\n",
    "        with nc.Dataset(summa_attributes) as src:\n",
    "            with nc.Dataset(summa_trialParams, \"w\") as dst:\n",
    "\n",
    "                # copy dimensions\n",
    "                for name, dimension in src.dimensions.items():\n",
    "                     dst.createDimension(\n",
    "                        name, (len(dimension) if not dimension.isunlimited() else None))\n",
    "\n",
    "                # copy gurId and hruId variables\n",
    "                include = ['gruId', 'hruId']\n",
    "                for name, variable in src.variables.items():\n",
    "                    if name in include:\n",
    "                        x = dst.createVariable(name, variable.datatype, variable.dimensions)               \n",
    "                        dst[name].setncatts(src[name].__dict__)\n",
    "                        dst[name][:]=src[name][:] \n",
    "\n",
    "                # create parameter varibles \n",
    "                for param_name in output_params:\n",
    "                    param_value = ff[param_name][:].flat[0] # the first element of the array regardless dimensions                    \n",
    "                    summa_ofile_dims = ff[param_name].dimensions\n",
    "                    if 'hru' in summa_ofile_dims:\n",
    "                        param_dim = 'hru'\n",
    "                    elif 'gru' in summa_ofile_dims:\n",
    "                        param_dim = 'gru'\n",
    "                    else:\n",
    "                        print('Variable %s is not in dimension gru or hru in summa output.'%(param_name))\n",
    "                        sys.exit()\n",
    "\n",
    "                    dst.createVariable(param_name, 'float', param_dim, fill_value=np.nan) \n",
    "                    dst[param_name][:] = param_value\n",
    "\n",
    "    # if summa_trialParams exists, add to summa_trialParams based on summa_attributes.\n",
    "    else:\n",
    "        with nc.Dataset(summa_attributes) as src:\n",
    "            with nc.Dataset(summa_trialParams, \"w\") as dst:\n",
    "\n",
    "                # copy dimensions \n",
    "                for name, dimension in src.dimensions.items():\n",
    "                     dst.createDimension(\n",
    "                        name, (len(dimension) if not dimension.isunlimited() else None))\n",
    "\n",
    "                # copy gurId and hruId variables\n",
    "                include = ['gruId', 'hruId']\n",
    "                for name, variable in src.variables.items():\n",
    "                    if name in include:\n",
    "                        x = dst.createVariable(name, variable.datatype, variable.dimensions)               \n",
    "                        dst[name].setncatts(src[name].__dict__)\n",
    "                        dst[name][:]=src[name][:] \n",
    "\n",
    "                # create parameter varibles \n",
    "                dst_vars=(dst.variables.keys()) # get all variable names of dst \n",
    "                for param_name in output_params:\n",
    "                    param_value = ff[param_name][:].flat[0] # the first element of the array regardless dimensions                    \n",
    "                    summa_ofile_dims = ff[param_name].dimensions\n",
    "                    if 'hru' in summa_ofile_dims:\n",
    "                        param_dim = 'hru'\n",
    "                    elif 'gru' in summa_ofile_dims:\n",
    "                        param_dim = 'gru'\n",
    "                    else:\n",
    "                        print('Variable %s is not in dimension gru or hru in summa output.'%(param_name))\n",
    "                        sys.exit()\n",
    "\n",
    "                    if not param_name in dst_vars:                    \n",
    "                        dst.createVariable(param_name, 'float', param_dim, fill_value=np.nan) \n",
    "                        dst[param_name][:] = param_value\n",
    "\n",
    "# copy summa_trialParams to get summa_trialParams_priori\n",
    "shutil.copy2(summa_trialParams, summa_trialParams_priori);"
   ]
  },
  {
   "cell_type": "code",
   "execution_count": null,
   "id": "3acc9076-49e9-45cf-89be-2372d9c95fd4",
   "metadata": {},
   "outputs": [],
   "source": []
  }
 ],
 "metadata": {
  "kernelspec": {
   "display_name": "summa-env",
   "language": "python",
   "name": "summa-env"
  },
  "language_info": {
   "codemirror_mode": {
    "name": "ipython",
    "version": 3
   },
   "file_extension": ".py",
   "mimetype": "text/x-python",
   "name": "python",
   "nbconvert_exporter": "python",
   "pygments_lexer": "ipython3",
   "version": "3.9.4"
  }
 },
 "nbformat": 4,
 "nbformat_minor": 5
}
