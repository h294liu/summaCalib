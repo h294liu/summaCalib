{
 "cells": [
  {
   "cell_type": "markdown",
   "id": "15320831-d54d-43e6-a86c-2e3cbaa9c9b6",
   "metadata": {},
   "source": [
    "This code checks the stauts of a priori model run for each gauge - complete or fatal error. "
   ]
  },
  {
   "cell_type": "code",
   "execution_count": 2,
   "id": "993a0a6e-0853-4683-8963-29eaafd1fb4a",
   "metadata": {},
   "outputs": [],
   "source": [
    "import os,shutil,glob,codecs\n",
    "import pandas as pd\n",
    "import numpy as np"
   ]
  },
  {
   "cell_type": "code",
   "execution_count": 3,
   "id": "7fd25779-a84c-49da-a51b-c5ee4b650703",
   "metadata": {},
   "outputs": [],
   "source": [
    "root_dir = '/home/h294liu/project/proj/7_nelson'\n",
    "gauge_csv = os.path.join(root_dir,'Flow_data/Phase_0&1_Natural/Natural_gauge_stn_info_calib_phase_0&1.csv')\n",
    "gauge_df = pd.read_csv(gauge_csv)\n",
    "output_basedir = '/home/h294liu/scratch/7_nelson/calib'"
   ]
  },
  {
   "cell_type": "code",
   "execution_count": 11,
   "id": "9dd933fb-1ca0-464b-91d0-ccf47ed5e488",
   "metadata": {},
   "outputs": [
    {
     "name": "stdout",
     "output_type": "stream",
     "text": [
      "06BA002_DDS1 does not have .out file yet.\n",
      "06BA002_DDS2 does not have .out file yet.\n",
      "06BA002_DDS3 does not have .out file yet.\n",
      "06BB005_DDS1 does not have .out file yet.\n",
      "06BB005_DDS2 does not have .out file yet.\n",
      "06BB005_DDS3 does not have .out file yet.\n",
      "06BD001_DDS1 does not have .out file yet.\n",
      "06BD001_DDS2 does not have .out file yet.\n",
      "06BD001_DDS3 does not have .out file yet.\n",
      "06DA004_DDS1 does not have .out file yet.\n",
      "06DA004_DDS2 does not have .out file yet.\n",
      "06DA004_DDS3 does not have .out file yet.\n",
      "06DA005_DDS1 does not have .out file yet.\n",
      "06DA005_DDS2 does not have .out file yet.\n",
      "06DA005_DDS3 does not have .out file yet.\n",
      "06FA001_DDS1 does not have .out file yet.\n",
      "06FA001_DDS2 does not have .out file yet.\n",
      "06FA001_DDS3 does not have .out file yet.\n",
      "06FB002_DDS1 does not have .out file yet.\n",
      "06FB002_DDS2 does not have .out file yet.\n",
      "06FB002_DDS3 does not have .out file yet.\n",
      "06FC001_DDS1 does not have .out file yet.\n",
      "06FC001_DDS2 does not have .out file yet.\n",
      "06FC001_DDS3 does not have .out file yet.\n",
      "06FD002_DDS1 does not have .out file yet.\n",
      "06FD002_DDS2 does not have .out file yet.\n",
      "06FD002_DDS3 does not have .out file yet.\n",
      "XNELSON_DDS1 does not have .out file yet.\n",
      "XNELSON_DDS2 does not have .out file yet.\n",
      "Incomplete model runs # =  0\n"
     ]
    }
   ],
   "source": [
    "calib_type = 'DDS'\n",
    "calib_num = 3 \n",
    "incomplete_list = []\n",
    "\n",
    "for index, row in gauge_df.iterrows():\n",
    "    Gauge_ID = row['Gauge_ID']\n",
    "\n",
    "    # Make multiple calib individually\n",
    "    for calib_id in range(calib_num):\n",
    "        \n",
    "        calib_folder = Gauge_ID+'_'+calib_type+str(calib_id+1)\n",
    "#         print(calib_folder)\n",
    "\n",
    "        # work on gauge calib\n",
    "        calib_dir = os.path.join(output_basedir,calib_folder)\n",
    "        if not os.path.exists(calib_dir):\n",
    "            os.makedirs(calib_dir)  \n",
    "\n",
    "        out_files = glob.glob(os.path.join(calib_dir,'calib','*.out')) #'*.out'\n",
    "        \n",
    "        if out_files == []:\n",
    "            print('%s does not have .out file yet.'%(calib_folder))\n",
    "            continue\n",
    "        else:\n",
    "            if len(out_files) == 1:\n",
    "                latest_out_file = out_files[0]  # when only one file for check\n",
    "            else:\n",
    "                latest_out_file = max(out_files, key=os.path.getctime) # when there are more than one files\n",
    "\n",
    "            try:\n",
    "                f = codecs.open(latest_out_file, encoding='utf-8', errors='strict')\n",
    "                for line in f:\n",
    "                    if 'OSError' in line:\n",
    "                        incomplete_list.append(calib_folder)\n",
    "                        print(Guage_ID)\n",
    "                        print(line)\n",
    "                        break\n",
    "            except UnicodeDecodeError:\n",
    "                incomplete_list.append(calib_folder)\n",
    "                print(Guage_ID,\"invalid utf-8\")    \n",
    "        \n",
    "print('Incomplete model runs # = ',len(incomplete_list))"
   ]
  },
  {
   "cell_type": "code",
   "execution_count": null,
   "id": "938a2edc-cc3e-468d-b8fa-8cbb34e24b46",
   "metadata": {},
   "outputs": [],
   "source": []
  }
 ],
 "metadata": {
  "kernelspec": {
   "display_name": "hl-env",
   "language": "python",
   "name": "hl-env"
  },
  "language_info": {
   "codemirror_mode": {
    "name": "ipython",
    "version": 3
   },
   "file_extension": ".py",
   "mimetype": "text/x-python",
   "name": "python",
   "nbconvert_exporter": "python",
   "pygments_lexer": "ipython3",
   "version": "3.8.10"
  }
 },
 "nbformat": 4,
 "nbformat_minor": 5
}
