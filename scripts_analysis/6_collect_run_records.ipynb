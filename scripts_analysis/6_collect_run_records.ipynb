{
 "cells": [
  {
   "cell_type": "code",
   "execution_count": 1,
   "id": "a29bd450-f532-437d-b481-1488e379ea83",
   "metadata": {},
   "outputs": [
    {
     "name": "stderr",
     "output_type": "stream",
     "text": [
      " 77%|███████▋  | 16489/21431 [42:28<12:43,  6.47it/s]  \n",
      "100%|██████████| 16489/16489 [00:00<00:00, 595589.72it/s]\n"
     ]
    }
   ],
   "source": [
    "# Collect calibration results from multiple jobs\n",
    "# Author: Hongli Liu\n",
    "\n",
    "import os, glob, shutil\n",
    "import numpy as np\n",
    "from tqdm import tqdm\n",
    "\n",
    "# inputs\n",
    "root_path = '/home/h294liu/project/proj/5_summaCalib'  # root path where parameter estimation will be stored.\n",
    "domain_name = 'BowAtBanff_LA_calib' #'BowAtBanff', 'BowAtBanff_LA_calib'\n",
    "\n",
    "calib_basename = 'GLUE' #SCE #GA #DDS #GLUE  \n",
    "outFilePrefix = 'run1'\n",
    "nGRU = 51\n",
    "\n",
    "# output paths\n",
    "output_path = os.path.join(root_path, domain_name,calib_basename+'_summary', '6_collect_run_records')\n",
    "if not os.path.exists(output_path):\n",
    "    os.makedirs(output_path)\n",
    "\n",
    "runs_path = os.path.join(output_path, 'runs') # folder to save detailed run results (use links inside)\n",
    "if not os.path.exists(runs_path):\n",
    "    os.makedirs(runs_path)\n",
    "OstModel_txt = os.path.join(output_path, 'OstModel.txt')  # text file to save param and obj func  \n",
    "fail_runs_txt = os.path.join(output_path, 'runs_fail.txt')    # text file to save fail run info  \n",
    "success_runs_txt = os.path.join(output_path, 'runs_success.txt')  # text file to save success run info\n",
    "\n",
    "# 1. find all archive paths\n",
    "archive_basepath = os.path.join(root_path, domain_name, calib_basename+'*', \n",
    "                                'calib/output_archive/experiment*', 'run*')\n",
    "iter_archive_paths = glob.glob(archive_basepath,recursive=True)\n",
    "\n",
    "# remove netcdf outputs in iter_archive_paths\n",
    "outFileSumma = outFilePrefix+'_day.nc'\n",
    "outFileRoute = outFilePrefix+'.mizuRoute.nc'\n",
    "iter_archive_paths=[x for x in iter_archive_paths if (not outFileSumma in x) and (not outFileRoute in x)]\n",
    "iter_archive_paths.sort()\n",
    "\n",
    "# 2. open output files for writing\n",
    "f_failure = open(fail_runs_txt, \"w\") \n",
    "f_success = open(success_runs_txt, \"w\") \n",
    "f_ost = open(OstModel_txt, \"w\") \n",
    "\n",
    "# write header for OstModel_txt\n",
    "OstModel_tpl = os.path.join(iter_archive_paths[0], os.pardir, os.pardir, os.pardir, 'OstModel0.txt')\n",
    "if os.path.exists(OstModel_tpl):\n",
    "    infile = open(OstModel_tpl, 'r')\n",
    "    firstLine = infile.readline()\n",
    "else:\n",
    "    print('OstModel0.txt does not exist in %s'%(OstModel_tpl))\n",
    "f_ost.write(firstLine)\n",
    "\n",
    "# 3. save control_active.txt for future use\n",
    "src = os.path.join(iter_archive_paths[0], os.pardir, os.pardir, os.pardir, 'control_active.txt')\n",
    "dst = os.path.join(output_path) \n",
    "shutil.copy2(src, dst)\n",
    "\n",
    "# 4. loop the archive paths\n",
    "pbar = tqdm(total=len(iter_archive_paths))\n",
    "success_count = 0\n",
    "for iPath in range(len(iter_archive_paths)):\n",
    "    \n",
    "    archive_path = iter_archive_paths[iPath]\n",
    "    \n",
    "    # (1) check mdoel run success. \n",
    "    ostExeFile = os.path.join(archive_path, 'OstExeOut.txt')\n",
    "    \n",
    "    if os.path.exists(ostExeFile):\n",
    "        with open(ostExeFile, \"r\") as f:\n",
    "            # read content of file to string\n",
    "            content = f.read()\n",
    "\n",
    "            # get number of occurrences of the substring in the string\n",
    "            # check summa run status for GRUs\n",
    "            summa_occurs = content.count(\"finished simulation successfully\") # Hard coded. Be careful.\n",
    "            route_occurs = content.count(\"Finished simulation\")\n",
    "            if ((summa_occurs==nGRU) and (route_occurs==1)):            \n",
    "                # write down the sucessful run information\n",
    "                f_success.write(archive_path+'\\n')\n",
    "            else:\n",
    "                # write down the failure run information\n",
    "                f_failure.write(archive_path+'\\n')\n",
    "                continue \n",
    "    else:\n",
    "        continue\n",
    "    \n",
    "    # (2) check param set duplication.\n",
    "    param_set = np.loadtxt(os.path.join(archive_path, 'multipliers.txt'))\n",
    "    obj = np.loadtxt(os.path.join(archive_path, 'trial_stats.txt'), delimiter='#', usecols=[0])\n",
    "    \n",
    "    if iPath == 0:\n",
    "        # initialize param_sets array\n",
    "        param_sets = np.zeros((len(iter_archive_paths), len(param_set)))\n",
    "    else:\n",
    "        # if duplication exists\n",
    "        if (param_sets == param_set).all(axis=1).any():\n",
    "            continue \n",
    "            \n",
    "    # if no duplication, add this param_set to param_sets.\n",
    "    param_sets[success_count,:] = param_set\n",
    "    success_count = success_count+1\n",
    "\n",
    "    # (3) save param set and obj of successful and unique runs.   \n",
    "    f_ost.write('%d\\t'%(success_count))\n",
    "    f_ost.write('%.6E\\t'%(obj[0]*(-1))) # obj = -KGE\n",
    "    for iParam in range(len(param_set)):\n",
    "        f_ost.write('%.6E\\t'%(param_set[iParam]))\n",
    "    f_ost.write('\\n')\n",
    "    \n",
    "    # (4) add run output to runs_path by link.\n",
    "    src = archive_path\n",
    "    dst = os.path.join(runs_path, 'run'+str(success_count))\n",
    "    if os.path.exists(dst) and os.path.islink(dst):\n",
    "        os.unlink(dst)\n",
    "    os.symlink(src, dst)\n",
    "\n",
    "    pbar.update(1)\n",
    "pbar.close()   \n",
    "\n",
    "f_failure.close()\n",
    "f_success.close() \n",
    "f_ost.close()\n",
    "del param_sets\n",
    "\n",
    "# 4. remove run links that are not created by this round of calib result collection\n",
    "success_count = sum(1 for line in open(success_runs_txt)) \n",
    "iter_run_paths = glob.glob(os.path.join(runs_path,'run*'),recursive=False)\n",
    "iter_run_paths.sort()\n",
    "\n",
    "pbar = tqdm(total=len(iter_run_paths))\n",
    "for run_path in iter_run_paths:\n",
    "    run_folder = os.path.basename(run_path)\n",
    "    run_id = int(run_folder.split('run')[-1])\n",
    "    if run_id > success_count:\n",
    "        if os.path.exists(run_path) and os.path.islink(run_path):\n",
    "            os.unlink(run_path)    \n",
    "    pbar.update(1)\n",
    "pbar.close()           "
   ]
  },
  {
   "cell_type": "code",
   "execution_count": 8,
   "id": "a6f5e005-0ad6-48d3-a247-b57e7ce682d1",
   "metadata": {},
   "outputs": [],
   "source": [
    "outFilePrefix = 'run1'\n",
    "outFileSumma = outFilePrefix+'_day.nc'\n",
    "outFileRoute = outFilePrefix+'.mizuRoute.nc'\n",
    "iter_archive_paths=[x for x in iter_archive_paths if (not outFileSumma in x) and (not outFileRoute in x)]\n",
    "iter_archive_paths.sort()"
   ]
  },
  {
   "cell_type": "code",
   "execution_count": 3,
   "id": "3454816c-e532-4cfd-b047-1af96adcca04",
   "metadata": {},
   "outputs": [
    {
     "data": {
      "text/plain": [
       "'/home/h294liu/project/proj/5_summaCalib/BowAtBanff/DDS1/calib/output_archive/experiment2_seg51/run1007'"
      ]
     },
     "execution_count": 3,
     "metadata": {},
     "output_type": "execute_result"
    }
   ],
   "source": [
    "archive_path"
   ]
  },
  {
   "cell_type": "code",
   "execution_count": 2,
   "id": "ba0d9ae9-cb79-4ed9-b99b-5c11eef8a35a",
   "metadata": {},
   "outputs": [
    {
     "ename": "NameError",
     "evalue": "name 'iter_archive_path' is not defined",
     "output_type": "error",
     "traceback": [
      "\u001b[0;31m---------------------------------------------------------------------------\u001b[0m",
      "\u001b[0;31mNameError\u001b[0m                                 Traceback (most recent call last)",
      "\u001b[0;32m<ipython-input-2-10ab34e72902>\u001b[0m in \u001b[0;36m<module>\u001b[0;34m\u001b[0m\n\u001b[0;32m----> 1\u001b[0;31m \u001b[0miter_archive_path\u001b[0m\u001b[0;34m\u001b[0m\u001b[0;34m\u001b[0m\u001b[0m\n\u001b[0m",
      "\u001b[0;31mNameError\u001b[0m: name 'iter_archive_path' is not defined"
     ]
    }
   ],
   "source": [
    "iter_archive_path"
   ]
  },
  {
   "cell_type": "code",
   "execution_count": null,
   "id": "83d921d4-5ece-4840-911f-dfc9f8c171a2",
   "metadata": {},
   "outputs": [],
   "source": []
  }
 ],
 "metadata": {
  "kernelspec": {
   "display_name": "conda_hongli",
   "language": "python",
   "name": "conda_hongli"
  },
  "language_info": {
   "codemirror_mode": {
    "name": "ipython",
    "version": 3
   },
   "file_extension": ".py",
   "mimetype": "text/x-python",
   "name": "python",
   "nbconvert_exporter": "python",
   "pygments_lexer": "ipython3",
   "version": "3.8.3"
  }
 },
 "nbformat": 4,
 "nbformat_minor": 5
}
