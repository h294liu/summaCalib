{
 "cells": [
  {
   "cell_type": "code",
   "execution_count": 1,
   "id": "c901c7f1-c188-46eb-b008-fffaf565c38d",
   "metadata": {},
   "outputs": [
    {
     "name": "stdout",
     "output_type": "stream",
     "text": [
      "Catchment total area is 2216040386.101139 (m^2).\n"
     ]
    }
   ],
   "source": [
    "# This code is used to calculate based area based on basin shapefile\n",
    "\n",
    "import geopandas as gpd\n",
    "\n",
    "invector = '/home/h294liu/project/proj/5_summaCalib/5_calib_test/BowAtBanff/model/shapefiles/catchment/bow_distributed_elevation_zone.shp'\n",
    "dst_crs = \"ESRI:102008\"\n",
    "area_field = 'area_sqm'\n",
    "\n",
    "in_gdf = gpd.read_file(invector)        # read vector file\n",
    "in_gdf_prj = in_gdf.to_crs(dst_crs)     # convert projection\n",
    "in_gdf_prj[area_field] = in_gdf_prj.area        # calculate each polygon area\n",
    "total_area = in_gdf_prj[area_field].sum()   # calculate total area\n",
    "\n",
    "print('Catchment total area is %f (m^2).'%(total_area))"
   ]
  },
  {
   "cell_type": "code",
   "execution_count": 2,
   "id": "0a012ad4-41d9-4745-8d51-17907457bd04",
   "metadata": {},
   "outputs": [
    {
     "name": "stdout",
     "output_type": "stream",
     "text": [
      "Catchment channel length is 47074.838142 (m).\n"
     ]
    }
   ],
   "source": [
    "import numpy as np\n",
    "domain_channel_length = np.sqrt(total_area)\n",
    "print('Catchment channel length is %f (m).'%(domain_channel_length))"
   ]
  },
  {
   "cell_type": "code",
   "execution_count": 3,
   "id": "9f5512aa-1c49-481a-a6d8-85a699b00496",
   "metadata": {},
   "outputs": [
    {
     "name": "stdout",
     "output_type": "stream",
     "text": [
      "6591.795830916862\n",
      "2636.7183323667446 263.67183323667444 26367.183323667443\n"
     ]
    }
   ],
   "source": [
    "shape_default = 2.5\n",
    "nGRU = float(51)\n",
    "GRU_area = total_area/nGRU  # mean GRU area in square meter\n",
    "GRU_channel_length = np.sqrt(GRU_area)  # mean GRU chennel length in meter\n",
    "\n",
    "# assume lower and upper runoff velocity\n",
    "v_priori, v_lower, v_upper = 1, 0.1, 10 # unit: m/s\n",
    "\n",
    "# calculate routingGammaScale default, lower and upper value.\n",
    "param_default  = (GRU_channel_length/v_priori)/shape_default\n",
    "param_min = (GRU_channel_length/v_upper)/shape_default\n",
    "param_max = (GRU_channel_length/v_lower)/shape_default\n",
    "\n",
    "print(GRU_channel_length)\n",
    "print(param_default, param_min, param_max)"
   ]
  },
  {
   "cell_type": "code",
   "execution_count": 4,
   "id": "24aaa296-e772-4a85-a296-271d45bb8a5e",
   "metadata": {},
   "outputs": [
    {
     "data": {
      "text/plain": [
       "43451772.27649292"
      ]
     },
     "execution_count": 4,
     "metadata": {},
     "output_type": "execute_result"
    }
   ],
   "source": [
    "GRU_area"
   ]
  },
  {
   "cell_type": "code",
   "execution_count": null,
   "id": "a93e59aa-f482-4f68-b450-cc458904005d",
   "metadata": {},
   "outputs": [],
   "source": []
  }
 ],
 "metadata": {
  "kernelspec": {
   "display_name": "hl-env",
   "language": "python",
   "name": "hl-env"
  },
  "language_info": {
   "codemirror_mode": {
    "name": "ipython",
    "version": 3
   },
   "file_extension": ".py",
   "mimetype": "text/x-python",
   "name": "python",
   "nbconvert_exporter": "python",
   "pygments_lexer": "ipython3",
   "version": "3.8.10"
  }
 },
 "nbformat": 4,
 "nbformat_minor": 5
}
