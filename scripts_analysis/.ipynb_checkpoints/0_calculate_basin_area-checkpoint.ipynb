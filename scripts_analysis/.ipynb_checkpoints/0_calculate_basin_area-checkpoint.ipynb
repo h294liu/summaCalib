{
 "cells": [
  {
   "cell_type": "code",
   "execution_count": 5,
   "id": "c901c7f1-c188-46eb-b008-fffaf565c38d",
   "metadata": {},
   "outputs": [
    {
     "name": "stdout",
     "output_type": "stream",
     "text": [
      "Catchment total area is 2216040386.101139 (m^2).\n"
     ]
    }
   ],
   "source": [
    "# This code is used to calculate based area based on basin shapefile\n",
    "\n",
    "import geopandas as gpd\n",
    "\n",
    "invector = '/home/h294liu/project/proj/5_summaCalib/5_calib_test/BowAtBanff/model/shapefiles/catchment/bow_distributed_elevation_zone.shp'\n",
    "dst_crs = \"ESRI:102008\"\n",
    "area_field = 'area_sqm'\n",
    "\n",
    "in_gdf = gpd.read_file(invector)        # read vector file\n",
    "in_gdf_prj = in_gdf.to_crs(dst_crs)     # convert projection\n",
    "in_gdf_prj[area_field] = in_gdf_prj.area        # calculate each polygon area\n",
    "total_area = in_gdf_prj[area_field].sum()   # calculate total area\n",
    "\n",
    "print('Catchment total area is %f (m^2).'%(total_area))"
   ]
  },
  {
   "cell_type": "code",
   "execution_count": 8,
   "id": "0a012ad4-41d9-4745-8d51-17907457bd04",
   "metadata": {},
   "outputs": [
    {
     "name": "stdout",
     "output_type": "stream",
     "text": [
      "Catchment channel length is 47074.838142 (m).\n"
     ]
    }
   ],
   "source": [
    "import numpy as np\n",
    "domain_channel_length = np.sqrt(total_area)\n",
    "print('Catchment channel length is %f (m).'%(domain_channel_length))"
   ]
  },
  {
   "cell_type": "code",
   "execution_count": 12,
   "id": "9f5512aa-1c49-481a-a6d8-85a699b00496",
   "metadata": {},
   "outputs": [],
   "source": [
    "import netCDF4 as nc"
   ]
  },
  {
   "cell_type": "code",
   "execution_count": 10,
   "id": "24aaa296-e772-4a85-a296-271d45bb8a5e",
   "metadata": {},
   "outputs": [
    {
     "ename": "SyntaxError",
     "evalue": "invalid syntax (<ipython-input-10-66915766d4cb>, line 1)",
     "output_type": "error",
     "traceback": [
      "\u001b[0;36m  File \u001b[0;32m\"<ipython-input-10-66915766d4cb>\"\u001b[0;36m, line \u001b[0;32m1\u001b[0m\n\u001b[0;31m    netCDF 4.4.0-rc2\u001b[0m\n\u001b[0m           ^\u001b[0m\n\u001b[0;31mSyntaxError\u001b[0m\u001b[0;31m:\u001b[0m invalid syntax\n"
     ]
    }
   ],
   "source": [
    "netCDF 4.4.0-rc2"
   ]
  },
  {
   "cell_type": "code",
   "execution_count": null,
   "id": "a93e59aa-f482-4f68-b450-cc458904005d",
   "metadata": {},
   "outputs": [],
   "source": []
  }
 ],
 "metadata": {
  "kernelspec": {
   "display_name": "hl-env",
   "language": "python",
   "name": "hl-env"
  },
  "language_info": {
   "codemirror_mode": {
    "name": "ipython",
    "version": 3
   },
   "file_extension": ".py",
   "mimetype": "text/x-python",
   "name": "python",
   "nbconvert_exporter": "python",
   "pygments_lexer": "ipython3",
   "version": "3.8.5"
  }
 },
 "nbformat": 4,
 "nbformat_minor": 5
}
