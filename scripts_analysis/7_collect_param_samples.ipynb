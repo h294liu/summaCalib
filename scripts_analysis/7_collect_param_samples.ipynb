{
 "cells": [
  {
   "cell_type": "code",
   "execution_count": 1,
   "id": "6577c453-d8ce-4056-ac01-96baf8089a30",
   "metadata": {},
   "outputs": [
    {
     "name": "stderr",
     "output_type": "stream",
     "text": [
      "100%|██████████| 16929/16929 [36:09<00:00,  7.80it/s]  \n"
     ]
    }
   ],
   "source": [
    "#!/usr/bin/env python\n",
    "# coding: utf-8\n",
    "\n",
    "# This code collects summa parameter samples. \n",
    "\n",
    "import os, sys, argparse, datetime, shutil\n",
    "from glob import glob\n",
    "import netCDF4 as nc\n",
    "import numpy as np\n",
    "import xarray as xr\n",
    "import pandas as pd\n",
    "from tqdm import tqdm\n",
    "\n",
    "# Function to extract a given setting from the configuration file\n",
    "def read_from_control(control_file, setting):\n",
    "    \n",
    "    # Open 'control_active.txt' and locate the line with setting\n",
    "    with open(control_file) as ff:\n",
    "        for line in ff:\n",
    "            line = line.strip()\n",
    "            if line.startswith(setting):\n",
    "                break\n",
    "    # Extract the setting's value\n",
    "    substring = line.split('|',1)[1].split('#',1)[0].strip() \n",
    "    # Return this value    \n",
    "    return substring\n",
    "\n",
    "\n",
    "# main\n",
    "if __name__ == '__main__':\n",
    "    \n",
    "    # ----------------------------- Settings ------------------------------        \n",
    "    # inputs\n",
    "    calib_output_path = '/home/h294liu/project/proj/5_summaCalib/BowAtBanff_LA_calib/GLUE_summary'\n",
    "    success_runs_txt = os.path.join(calib_output_path, '6_collect_run_records/runs_success.txt')       # text file to save success run info  \n",
    "    control_file = os.path.join(calib_output_path, '6_collect_run_records/control_active.txt')         # active control file\n",
    "    paramFile_basename = 'trialParams.nc'\n",
    "    statsFile_basename = 'trial_stats.txt'\n",
    "    \n",
    "    output_path = os.path.join(calib_output_path, '7_collect_param_samples') # output text file to save summa param and obj func \n",
    "    if not os.path.exists(output_path):\n",
    "        os.makedirs(output_path)\n",
    "    \n",
    "    # --------------------------- End settings -----------------------------        \n",
    "    \n",
    "    # 1. Read interested param name list   \n",
    "    object_parameters = read_from_control(control_file, 'object_parameters')\n",
    "    object_parameters = object_parameters.split(',')\n",
    "    object_parameters = [x.strip() for x in object_parameters]    \n",
    "    Nparam = len(object_parameters)\n",
    "    \n",
    "    # 2. Read path list of successful model runs and ostModel.txt\n",
    "    success_runs = np.loadtxt(success_runs_txt,dtype='str')\n",
    "    Nsample = len(success_runs)    \n",
    "\n",
    "    # 3. Identify GRU and HRU dimension variables \n",
    "    iRun = 0\n",
    "    iRun_path = success_runs[iRun]\n",
    "\n",
    "    paramFile = os.path.join(iRun_path,paramFile_basename)\n",
    "    f    = xr.open_dataset(paramFile)\n",
    "    \n",
    "    # identify numbers of GRUs and HRUs\n",
    "    nGru = f.dims['gru']\n",
    "    nHru = f.dims['hru']\n",
    "\n",
    "    # identify GRU or HRU dimension variables \n",
    "    gru_params = []\n",
    "    hru_params = []\n",
    "    for iParam in range(Nparam):\n",
    "        iParam_name = object_parameters[iParam]\n",
    "        iParam_dims = f[iParam_name].dims \n",
    "\n",
    "        if 'gru' in iParam_dims:\n",
    "            gru_params.append(iParam_name)\n",
    "        elif 'hru' in iParam_dims:\n",
    "            hru_params.append(iParam_name)\n",
    "    \n",
    "    nGru_params = len(gru_params)\n",
    "    nHru_params = len(hru_params)\n",
    "    \n",
    "    # 4. Create nGRU and nHru text files to store parameter sample values.\n",
    "    for iGru in range(nGru):\n",
    "        ofile = os.path.join(output_path,'GRU%d_param_samples.txt'%(iGru+1)) #eg, 'GRU1_param_samples.txt'\n",
    "        with open(ofile, 'w') as f:\n",
    "            f.write('Run\\tobj.function\\t')\n",
    "            f.write('\\t'.join(gru_params))\n",
    "            f.write('\\n')\n",
    "    for iHru in range(nHru):\n",
    "        ofile = os.path.join(output_path,'HRU%d_param_samples.txt'%(iHru+1)) #eg, 'GRU1_param_samples.txt'\n",
    "        with open(ofile, 'w') as f:\n",
    "            f.write('Run\\tobj.function\\t')\n",
    "            f.write('\\t'.join(hru_params))\n",
    "            f.write('\\n')        \n",
    "            \n",
    "    # 5. Loop sucess runs to read and store each run param values\n",
    "    pbar = tqdm(total=Nsample)\n",
    "    for iRun in range(Nsample):\n",
    "#     for iRun in range(3):\n",
    "\n",
    "        iRun_path = success_runs[iRun]\n",
    "        paramFile = os.path.join(iRun_path,paramFile_basename)\n",
    "        statsFile = os.path.join(iRun_path,statsFile_basename)        \n",
    "        \n",
    "        f = xr.open_dataset(paramFile)\n",
    "        obj = np.loadtxt(statsFile, delimiter='\\t', usecols=[0])\n",
    "        obj = obj[0]*(-1) # negative KGE as the objective function of optimization\n",
    "\n",
    "        # ------------ GRU param -----------------------\n",
    "        # read all GRU param values\n",
    "        gru_param_values = np.zeros((nGru,nGru_params))\n",
    "        for iGru_param in range(nGru_params):\n",
    "            iGru_param_name = gru_params[iGru_param] \n",
    "            gru_param_values[:,iGru_param] = f[iGru_param_name].values \n",
    "\n",
    "        # save GRU param values for each GRU individually\n",
    "        for iGru in range(nGru):\n",
    "            ofile = os.path.join(output_path,'GRU%d_param_samples.txt'%(iGru+1)) #eg, 'GRU1_param_samples.txt'\n",
    "            with open(ofile, 'a') as fout:\n",
    "                fout.write(('%d\\t%.6E\\t')%(iRun+1,obj))\n",
    "                for iGru_param in range(nGru_params):\n",
    "                    fout.write('%.6E\\t'%(gru_param_values[iGru,iGru_param]))\n",
    "                fout.write('\\n')\n",
    "        \n",
    "        # ------------ HRU param -----------------------\n",
    "        # read all HRU param values\n",
    "        hru_param_values = np.zeros((nHru,nHru_params))\n",
    "        for iHru_param in range(nHru_params):\n",
    "            iHru_param_name = hru_params[iHru_param] \n",
    "            hru_param_values[:,iHru_param] = f[iHru_param_name].values \n",
    "\n",
    "        # save HRU param values for each HRU individually\n",
    "        for iHru in range(nHru):\n",
    "            ofile = os.path.join(output_path,'HRU%d_param_samples.txt'%(iHru+1)) #eg, 'GRU1_param_samples.txt'\n",
    "            with open(ofile, 'a') as fout:\n",
    "                fout.write(('%d\\t%.6E\\t')%(iRun+1,obj))\n",
    "                for iHru_param in range(nHru_params):\n",
    "                    fout.write('%.6E\\t'%(hru_param_values[iHru,iHru_param]))\n",
    "                fout.write('\\n')                                           \n",
    "\n",
    "        pbar.update(1)\n",
    "    pbar.close()  \n",
    "        \n"
   ]
  },
  {
   "cell_type": "code",
   "execution_count": 46,
   "id": "28c205d5-8f10-4f2a-92a0-211640e8f508",
   "metadata": {},
   "outputs": [
    {
     "ename": "TypeError",
     "evalue": "must be real number, not list",
     "output_type": "error",
     "traceback": [
      "\u001b[0;31m---------------------------------------------------------------------------\u001b[0m",
      "\u001b[0;31mTypeError\u001b[0m                                 Traceback (most recent call last)",
      "\u001b[0;32m<ipython-input-46-12a7aa8d3faf>\u001b[0m in \u001b[0;36m<module>\u001b[0;34m\u001b[0m\n\u001b[0;32m----> 1\u001b[0;31m \u001b[0mprint\u001b[0m\u001b[0;34m(\u001b[0m\u001b[0;34m(\u001b[0m\u001b[0;34m\"%.6E\\t\"\u001b[0m\u001b[0;34m*\u001b[0m\u001b[0mnGru_params\u001b[0m\u001b[0;34m)\u001b[0m\u001b[0;34m%\u001b[0m\u001b[0;34m(\u001b[0m\u001b[0mlist\u001b[0m\u001b[0;34m(\u001b[0m\u001b[0mgru_param_values\u001b[0m\u001b[0;34m[\u001b[0m\u001b[0miGru\u001b[0m\u001b[0;34m,\u001b[0m\u001b[0;34m:\u001b[0m\u001b[0;34m]\u001b[0m\u001b[0;34m)\u001b[0m\u001b[0;34m)\u001b[0m\u001b[0;34m)\u001b[0m\u001b[0;34m\u001b[0m\u001b[0;34m\u001b[0m\u001b[0m\n\u001b[0m",
      "\u001b[0;31mTypeError\u001b[0m: must be real number, not list"
     ]
    }
   ],
   "source": [
    "print((\"%.6E\\t\"*nGru_params)%(list(gru_param_values[iGru,:])))"
   ]
  },
  {
   "cell_type": "code",
   "execution_count": 47,
   "id": "b9ea9a5b-542d-4121-9871-8ebf60962c30",
   "metadata": {},
   "outputs": [
    {
     "data": {
      "text/plain": [
       "[13032.325247823033, 2.09648525]"
      ]
     },
     "execution_count": 47,
     "metadata": {},
     "output_type": "execute_result"
    }
   ],
   "source": [
    "list(gru_param_values[iGru,:])"
   ]
  },
  {
   "cell_type": "code",
   "execution_count": 44,
   "id": "88acb982-3517-4902-be26-16f1ab3cad4e",
   "metadata": {},
   "outputs": [
    {
     "data": {
      "text/plain": [
       "['k_macropore',\n",
       " 'k_soil',\n",
       " 'theta_sat',\n",
       " 'aquiferBaseflowExp',\n",
       " 'aquiferBaseflowRate',\n",
       " 'qSurfScale',\n",
       " 'summerLAI',\n",
       " 'frozenPrecipMultip',\n",
       " 'heightCanopyTop',\n",
       " 'Fcapil']"
      ]
     },
     "execution_count": 44,
     "metadata": {},
     "output_type": "execute_result"
    }
   ],
   "source": [
    "hru_params"
   ]
  },
  {
   "cell_type": "code",
   "execution_count": 25,
   "id": "ad098a23-5024-4b54-ac75-1cbb9455afa7",
   "metadata": {},
   "outputs": [
    {
     "data": {
      "text/plain": [
       "0.297968"
      ]
     },
     "execution_count": 25,
     "metadata": {},
     "output_type": "execute_result"
    }
   ],
   "source": [
    "obj"
   ]
  },
  {
   "cell_type": "code",
   "execution_count": null,
   "id": "3e886208-ac51-49e0-98c1-4cca70683fec",
   "metadata": {},
   "outputs": [],
   "source": []
  }
 ],
 "metadata": {
  "kernelspec": {
   "display_name": "hl-env",
   "language": "python",
   "name": "hl-env"
  },
  "language_info": {
   "codemirror_mode": {
    "name": "ipython",
    "version": 3
   },
   "file_extension": ".py",
   "mimetype": "text/x-python",
   "name": "python",
   "nbconvert_exporter": "python",
   "pygments_lexer": "ipython3",
   "version": "3.8.10"
  }
 },
 "nbformat": 4,
 "nbformat_minor": 5
}
