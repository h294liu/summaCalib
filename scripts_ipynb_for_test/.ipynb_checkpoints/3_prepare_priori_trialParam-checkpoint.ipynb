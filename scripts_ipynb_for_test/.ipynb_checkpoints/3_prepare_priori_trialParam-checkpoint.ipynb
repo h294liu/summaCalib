{
 "cells": [
  {
   "cell_type": "markdown",
   "metadata": {},
   "source": [
    "#### Create a priori trial parameter file (trialParam.priori.nc) ####\n",
    "Given a list of to-be-evaluated parameters, create their corresponding a priori parameter values. \n",
    "1. update outputControl.txt by adding parameter names.\n",
    "2. update fileManager.txt by changing simStartTime and simEndTime.\n",
    "2. run SUMMA model to get a priori parameter values in summa output.\n",
    "3. extract a priori parameter values from summa output and generate trialParam.priori.nc."
   ]
  },
  {
   "cell_type": "code",
   "execution_count": 10,
   "metadata": {},
   "outputs": [],
   "source": [
    "# import module\n",
    "import os\n",
    "import shutil\n",
    "import datetime\n",
    "import functions.utils as ut\n",
    "import netCDF4 as nc\n",
    "import sys\n",
    "import numpy as np"
   ]
  },
  {
   "cell_type": "code",
   "execution_count": 11,
   "metadata": {},
   "outputs": [],
   "source": [
    "# read paths from control_file\n",
    "control_file = 'control_active.txt'\n",
    "root_path = ut.read_from_control(control_file, 'root_path')\n",
    "domain_name = ut.read_from_control(control_file, 'domain_name')\n",
    "domain_path = os.path.join(root_path, domain_name)"
   ]
  },
  {
   "cell_type": "code",
   "execution_count": 12,
   "metadata": {},
   "outputs": [],
   "source": [
    "# read new hydrologic model path\n",
    "model_dst_path = ut.read_from_control(control_file, 'model_dst_path')\n",
    "if model_dst_path == 'default':\n",
    "    model_dst_path = os.path.join(domain_path, 'model')\n",
    "summa_setting_path = os.path.join(model_dst_path, 'settings/SUMMA')"
   ]
  },
  {
   "cell_type": "markdown",
   "metadata": {},
   "source": [
    "#### 1. Update summa outputControl.txt by adding parameter names."
   ]
  },
  {
   "cell_type": "code",
   "execution_count": 13,
   "metadata": {},
   "outputs": [],
   "source": [
    "# determine summa output parameters\n",
    "object_params = ut.read_from_control(control_file, 'object_parameters')  # users provided object params\n",
    "output_params = [x.strip() for x in object_params.split(',')]        # a more complete list of params that should be output in a priori parameter file \n",
    "\n",
    "# add more parameters if soil water content parameters are included in object_params.\n",
    "soil_params = ['theta_res', 'critSoilWilting', 'critSoilTranspire', 'fieldCapacity', 'theta_sat']\n",
    "if any(soil_param in object_params for soil_param in soil_params):\n",
    "    for soil_param in soil_params:\n",
    "        if not soil_param in object_params:\n",
    "            output_params.append(soil_param)            "
   ]
  },
  {
   "cell_type": "code",
   "execution_count": 14,
   "metadata": {},
   "outputs": [],
   "source": [
    "# identify outputControl.txt and a temporary file.\n",
    "summa_filemanager = os.path.join(summa_setting_path, ut.read_from_control(control_file, 'summa_filemanager'))\n",
    "outputControlFile = ut.read_from_summa_mizuRoute_control(summa_filemanager, 'outputControlFile')\n",
    "\n",
    "outputControlFile_temp = outputControlFile.split('.txt')[0]+'_temp.txt'\n",
    "outputControlFile = os.path.join(summa_setting_path, outputControlFile)\n",
    "outputControlFile_temp = os.path.join(summa_setting_path, outputControlFile_temp)\n",
    "\n",
    "# add output_params to outputControl.txt            \n",
    "with open(outputControlFile, 'r') as src:\n",
    "    content = src.read()\n",
    "    with open(outputControlFile_temp, 'w') as dst:\n",
    "        for param in output_params:\n",
    "            if not param in content:\n",
    "                dst.write(param)\n",
    "                dst.write('\\n')\n",
    "        dst.write(content)\n",
    "shutil.copy2(outputControlFile_temp, outputControlFile);\n",
    "os.remove(outputControlFile_temp);"
   ]
  },
  {
   "cell_type": "markdown",
   "metadata": {},
   "source": [
    "#### 2. Update fileManager.txt by changing simStartTime and simEndTime. "
   ]
  },
  {
   "cell_type": "code",
   "execution_count": 15,
   "metadata": {},
   "outputs": [],
   "source": [
    "simStartTime = ut.read_from_control(control_file, 'simStartTime')\n",
    "simStartTime_priori = simStartTime # in format 'yyyy-mm-dd hh:mm'\n",
    "simEndTime_priori = datetime.datetime.strftime(datetime.datetime.strptime(simStartTime, '%Y-%d-%m %H:%M') + datetime.timedelta(days=1), '%Y-%d-%m %H:%M') \n",
    "\n",
    "# identify fileManager.txt and a temporary file. \n",
    "summa_filemanager = ut.read_from_control(control_file, 'summa_filemanager')\n",
    "summa_filemanager_temp = summa_filemanager.split('.txt')[0]+'_temp.txt'\n",
    "\n",
    "summa_filemanager = os.path.join(summa_setting_path, summa_filemanager)\n",
    "summa_filemanager_temp = os.path.join(summa_setting_path, summa_filemanager_temp)\n",
    "\n",
    "# change sim times in fileManager.txt            \n",
    "with open(summa_filemanager, 'r') as src:\n",
    "    with open(summa_filemanager_temp, 'w') as dst:\n",
    "        for line in src:\n",
    "            if line.startswith('simStartTime'):\n",
    "                simStartTime_old = line.split('!',1)[0].strip().split(None,1)[1]\n",
    "                line = line.replace(simStartTime_old, simStartTime_priori)\n",
    "            elif line.startswith('simEndTime'):\n",
    "                simEndTime_old = line.split('!',1)[0].strip().split(None,1)[1]\n",
    "                line = line.replace(simEndTime_old, simEndTime_priori)\n",
    "            dst.write(line)\n",
    "shutil.copy2(summa_filemanager_temp, summa_filemanager);\n",
    "os.remove(summa_filemanager_temp);"
   ]
  },
  {
   "cell_type": "markdown",
   "metadata": {},
   "source": [
    "#### 3. Run SUMMA model to get a priori parameter values in summa output."
   ]
  },
  {
   "cell_type": "code",
   "execution_count": 16,
   "metadata": {},
   "outputs": [
    {
     "data": {
      "text/plain": [
       "0"
      ]
     },
     "execution_count": 16,
     "metadata": {},
     "output_type": "execute_result"
    }
   ],
   "source": [
    "# summa executable and settings paths \n",
    "summa_exe_path = ut.read_from_control(control_file, 'summa_exe_path')\n",
    "\n",
    "# create summa output path if it does not exist.\n",
    "outputPath = ut.read_from_summa_mizuRoute_control(summa_filemanager, 'outputPath')\n",
    "if not os.path.exists(outputPath):\n",
    "    print('outputPath does not exist. Create it.')\n",
    "    os.makedirs(outputPath)\n",
    "\n",
    "# run SUMMA\n",
    "cmd = summa_exe_path + ' -m '+ summa_filemanager\n",
    "os.system(cmd)"
   ]
  },
  {
   "cell_type": "markdown",
   "metadata": {},
   "source": [
    "#### 4. Extract a priori parameter values from summa output and generate trialParam.priori.nc."
   ]
  },
  {
   "cell_type": "code",
   "execution_count": 17,
   "metadata": {},
   "outputs": [],
   "source": [
    "# specify summa output, attribtue, and trialParam files\n",
    "outFilePrefix = ut.read_from_summa_mizuRoute_control(summa_filemanager, 'outFilePrefix')\n",
    "summa_ofile = os.path.join(outputPath, outFilePrefix+'_timestep.nc')\n",
    "\n",
    "trialParamFile = ut.read_from_summa_mizuRoute_control(summa_filemanager, 'trialParamFile')\n",
    "trialParamFile_priori = trialParamFile.split('.nc')[0] + '.priori.nc' # a priori param file\n",
    "\n",
    "trialParamFile = os.path.join(summa_setting_path, trialParamFile)\n",
    "trialParamFile_priori = os.path.join(summa_setting_path, trialParamFile_priori)\n",
    "\n",
    "attributeFile = ut.read_from_summa_mizuRoute_control(summa_filemanager,'attributeFile')\n",
    "attributeFile = os.path.join(summa_setting_path, attributeFile)"
   ]
  },
  {
   "cell_type": "code",
   "execution_count": 18,
   "metadata": {},
   "outputs": [],
   "source": [
    "# open summa output file for reading\n",
    "with nc.Dataset(summa_ofile, 'r') as ff:\n",
    "    \n",
    "    # if trialParamFile does not exist, create trialParamFile based on attributeFile.\n",
    "    if not os.path.exists(trialParamFile):\n",
    "        with nc.Dataset(attributeFile) as src:\n",
    "            with nc.Dataset(trialParamFile, \"w\") as dst:\n",
    "\n",
    "                # copy dimensions\n",
    "                for name, dimension in src.dimensions.items():\n",
    "                     dst.createDimension(\n",
    "                        name, (len(dimension) if not dimension.isunlimited() else None))\n",
    "\n",
    "                # copy gurId and hruId variables\n",
    "                include = ['gruId', 'hruId']\n",
    "                for name, variable in src.variables.items():\n",
    "                    if name in include:\n",
    "                        x = dst.createVariable(name, variable.datatype, variable.dimensions)               \n",
    "                        dst[name].setncatts(src[name].__dict__)\n",
    "                        dst[name][:]=src[name][:] \n",
    "\n",
    "                # create parameter varibles \n",
    "                for param_name in output_params:\n",
    "                    param_value = ff[param_name][:].flat[0] # the first element of the array regardless dimensions                    \n",
    "                    summa_ofile_dims = ff[param_name].dimensions\n",
    "                    if 'hru' in summa_ofile_dims:\n",
    "                        param_dim = 'hru'\n",
    "                    elif 'gru' in summa_ofile_dims:\n",
    "                        param_dim = 'gru'\n",
    "                    else:\n",
    "                        print('Variable %s is not in dimension gru or hru in summa output.'%(param_name))\n",
    "                        sys.exit()\n",
    "\n",
    "                    dst.createVariable(param_name, 'float', param_dim, fill_value=np.nan) \n",
    "                    dst[param_name][:] = param_value\n",
    "\n",
    "    # if trialParamFile exists, add to trialParamFile based on attributeFile.\n",
    "    else:\n",
    "        with nc.Dataset(attributeFile) as src:\n",
    "            with nc.Dataset(trialParamFile, \"w\") as dst:\n",
    "\n",
    "                # copy dimensions \n",
    "                for name, dimension in src.dimensions.items():\n",
    "                     dst.createDimension(\n",
    "                        name, (len(dimension) if not dimension.isunlimited() else None))\n",
    "\n",
    "                # copy gurId and hruId variables\n",
    "                include = ['gruId', 'hruId']\n",
    "                for name, variable in src.variables.items():\n",
    "                    if name in include:\n",
    "                        x = dst.createVariable(name, variable.datatype, variable.dimensions)               \n",
    "                        dst[name].setncatts(src[name].__dict__)\n",
    "                        dst[name][:]=src[name][:] \n",
    "\n",
    "                # create parameter varibles \n",
    "                dst_vars=(dst.variables.keys()) # get all variable names of dst \n",
    "                for param_name in output_params:\n",
    "                    param_value = ff[param_name][:].flat[0] # the first element of the array regardless dimensions                    \n",
    "                    summa_ofile_dims = ff[param_name].dimensions\n",
    "                    if 'hru' in summa_ofile_dims:\n",
    "                        param_dim = 'hru'\n",
    "                    elif 'gru' in summa_ofile_dims:\n",
    "                        param_dim = 'gru'\n",
    "                    else:\n",
    "                        print('Variable %s is not in dimension gru or hru in summa output.'%(param_name))\n",
    "                        sys.exit()\n",
    "\n",
    "                    if not param_name in dst_vars:                    \n",
    "                        dst.createVariable(param_name, 'float', param_dim, fill_value=np.nan) \n",
    "                        dst[param_name][:] = param_value\n",
    "\n",
    "# copy trialParamFile to get trialParamFile_priori\n",
    "shutil.copy2(trialParamFile, trialParamFile_priori);"
   ]
  },
  {
   "cell_type": "code",
   "execution_count": null,
   "metadata": {},
   "outputs": [],
   "source": []
  }
 ],
 "metadata": {
  "kernelspec": {
   "display_name": "summa-env",
   "language": "python",
   "name": "summa-env"
  },
  "language_info": {
   "codemirror_mode": {
    "name": "ipython",
    "version": 3
   },
   "file_extension": ".py",
   "mimetype": "text/x-python",
   "name": "python",
   "nbconvert_exporter": "python",
   "pygments_lexer": "ipython3",
   "version": "3.9.4"
  }
 },
 "nbformat": 4,
 "nbformat_minor": 5
}
