{
 "cells": [
  {
   "cell_type": "markdown",
   "metadata": {},
   "source": [
    "#### Define multiplier lower/upper bounds ####\n",
    "Given the default parameter values and lower/upper bounds in localParam.txt and basinParam.txt, determine globally constant multiplier lower/upper bounds.\n",
    "1. Determine evaluated multipliers.\n",
    "2. Read default parameter values and lower/upper limits.\n",
    "3. Determine multiplier lower/upper bounds.\n",
    "4. Save param and multiplier information into text."
   ]
  },
  {
   "cell_type": "code",
   "execution_count": 12,
   "metadata": {},
   "outputs": [],
   "source": [
    "# import module\n",
    "import os\n",
    "import shutil\n",
    "from datetime import datetime\n",
    "import functions.utils as ut\n",
    "import netCDF4 as nc\n",
    "import sys\n",
    "import numpy as np"
   ]
  },
  {
   "cell_type": "code",
   "execution_count": 13,
   "metadata": {},
   "outputs": [],
   "source": [
    "# read paths from control_file\n",
    "control_file = 'control_active.txt'\n",
    "root_path = ut.read_from_control(control_file, 'root_path')\n",
    "domain_name = ut.read_from_control(control_file, 'domain_name')\n",
    "domain_path = os.path.join(root_path, domain_name)"
   ]
  },
  {
   "cell_type": "code",
   "execution_count": 14,
   "metadata": {},
   "outputs": [],
   "source": [
    "# read new hydrologic model path\n",
    "model_dst_path = ut.read_from_control(control_file, 'model_dst_path')\n",
    "if model_dst_path == 'default':\n",
    "    model_dst_path = os.path.join(domain_path, 'model')\n",
    "summa_setting_path = os.path.join(model_dst_path, 'settings/SUMMA')"
   ]
  },
  {
   "cell_type": "code",
   "execution_count": 15,
   "metadata": {},
   "outputs": [],
   "source": [
    "# read calib path\n",
    "calib_path = ut.read_from_control(control_file, 'calib_path')\n",
    "if calib_path == 'default':\n",
    "    calib_path = os.path.join(domain_path, 'calib')"
   ]
  },
  {
   "cell_type": "markdown",
   "metadata": {},
   "source": [
    "#### 1. Determine evaluated multipliers "
   ]
  },
  {
   "cell_type": "code",
   "execution_count": 16,
   "metadata": {},
   "outputs": [],
   "source": [
    "object_params = ut.read_from_control(control_file, 'object_parameters') # users provided object params\n",
    "object_multps = [x.strip()+'_multp' for x in object_params.split(',')]    # a list of params that are evaluated in calib or sensitivity analysis. \n",
    "\n",
    "# add thickness if heightCanopyTop is included in object_parameters.\n",
    "if 'heightCanopyTop' in object_params:\n",
    "    object_multps.append('thickness'+'_multp')  \n",
    "    object_multps.remove('heightCanopyTop'+'_multp')"
   ]
  },
  {
   "cell_type": "markdown",
   "metadata": {},
   "source": [
    "#### 2. Read default param values and lower/upper limits"
   ]
  },
  {
   "cell_type": "code",
   "execution_count": 17,
   "metadata": {},
   "outputs": [],
   "source": [
    "def read_basinParam_localParam(filename):\n",
    "    param_names = []\n",
    "    param_default = []\n",
    "    param_min = []\n",
    "    param_max =[]\n",
    "    with open (filename, 'r') as f:\n",
    "        for line in f:\n",
    "            line=line.strip()\n",
    "            if line and not line.startswith('!') and not line.startswith(\"'\"):\n",
    "                splits=line.split('|')\n",
    "                if isinstance(splits[0].strip(), str):\n",
    "                    param_names.append(splits[0].strip())\n",
    "                    param_default.append(str_to_float(splits[1].strip()))\n",
    "                    param_min.append(str_to_float(splits[2].strip()))\n",
    "                    param_max.append(str_to_float(splits[3].strip()))\n",
    "    return param_names, param_default, param_min, param_max\n",
    "\n",
    "def str_to_float(data_str):\n",
    "    if 'd' in data_str:\n",
    "        x = data_str.split('d')[0]+'e'+data_str.split('d')[1]\n",
    "        return float(x)\n",
    "    else:\n",
    "        return float(data_str)"
   ]
  },
  {
   "cell_type": "code",
   "execution_count": 18,
   "metadata": {},
   "outputs": [],
   "source": [
    "# read variable range from Local and Basin param files\n",
    "summa_filemanager = ut.read_from_control(control_file, 'summa_filemanager')\n",
    "summa_filemanager = os.path.join(summa_setting_path, summa_filemanager)\n",
    "\n",
    "basinParam = ut.read_from_summa_mizuRoute_control(summa_filemanager, 'globalGruParamFile')\n",
    "localParam = ut.read_from_summa_mizuRoute_control(summa_filemanager, 'globalHruParamFile')\n",
    "\n",
    "basinParam = os.path.join(summa_setting_path, basinParam)\n",
    "localParam = os.path.join(summa_setting_path, localParam)\n",
    "\n",
    "basin_param_names, basin_param_default, basin_param_min, basin_param_max = read_basinParam_localParam(basinParam)    \n",
    "local_param_names, local_param_default, local_param_min, local_param_max = read_basinParam_localParam(localParam)"
   ]
  },
  {
   "cell_type": "code",
   "execution_count": 19,
   "metadata": {},
   "outputs": [
    {
     "data": {
      "text/plain": [
       "('/Users/hongliliu/Documents/proj/5_summaCalib/5_calib_test/BowAtBanff/model/settings/SUMMA/basinParamInfo.txt',\n",
       " '/Users/hongliliu/Documents/proj/5_summaCalib/5_calib_test/BowAtBanff/model/settings/SUMMA/localParamInfo.txt')"
      ]
     },
     "execution_count": 19,
     "metadata": {},
     "output_type": "execute_result"
    }
   ],
   "source": [
    "basinParam,localParam"
   ]
  },
  {
   "cell_type": "markdown",
   "metadata": {},
   "source": [
    "#### 3. Determine multiplier lower/upper bounds"
   ]
  },
  {
   "cell_type": "code",
   "execution_count": 20,
   "metadata": {},
   "outputs": [],
   "source": [
    "# Determine min and max for multipliers\n",
    "param_bounds_list = []   # list of [param name, initial, lower, upper]. \n",
    "multp_bounds_list = []   # list of [multilier name, initial, lower, upper]. Note initial = 1.0.\n",
    "\n",
    "for multp_name in object_multps:\n",
    "    \n",
    "    param_name = multp_name.replace('_multp','')\n",
    "    \n",
    "    if param_name in local_param_names:\n",
    "        index   = local_param_names.index(param_name)\n",
    "        param_default = local_param_default[index]\n",
    "        param_min = local_param_min[index]\n",
    "        param_max = local_param_max[index]\n",
    "        \n",
    "    elif param_name in basin_param_names:\n",
    "        index   = basin_param_names.index(param_name)\n",
    "        param_default = basin_param_default[index]\n",
    "        param_min = basin_param_min[index]\n",
    "        param_max = basin_param_max[index]\n",
    "        \n",
    "    elif param_name == 'thickness': \n",
    "        # read bottom and top heights\n",
    "        index = local_param_names.index('heightCanopyBottom')\n",
    "        bottom_default = local_param_default[index]\n",
    "        bottom_min = local_param_min[index]\n",
    "        bottom_max = local_param_max[index]    \n",
    "\n",
    "        index = local_param_names.index('heightCanopyTop')\n",
    "        top_default = local_param_default[index]\n",
    "        top_min = local_param_min[index]\n",
    "        top_max = local_param_max[index]    \n",
    "\n",
    "        # get default thickness and lower/upper bounds\n",
    "        param_default  = top_default - bottom_default\n",
    "        param_min = top_min - bottom_min\n",
    "        param_max = top_max - bottom_max\n",
    "    \n",
    "    else:\n",
    "        print('Parameter %s does not exist in localParam.txt and basinParam.txt'%(param_name))\n",
    "        sys.exit()\n",
    "        \n",
    "    param_bounds_list.append([param_name, param_default, param_min, param_max])\n",
    "    multp_min = float(param_min)/float(param_default)\n",
    "    multp_max = float(param_max)/float(param_default)    \n",
    "    multp_bounds_list.append([multp_name, 1.0, multp_min, multp_max]) "
   ]
  },
  {
   "cell_type": "markdown",
   "metadata": {},
   "source": [
    "#### 4. Save param and multiplier information into text."
   ]
  },
  {
   "cell_type": "code",
   "execution_count": 21,
   "metadata": {},
   "outputs": [],
   "source": [
    "param_bounds = ut.read_from_control(control_file, 'param_bounds')\n",
    "param_bounds = os.path.join(calib_path, param_bounds)\n",
    "np.savetxt(param_bounds, param_bounds_list, fmt='%s', delimiter=',',header='SummaParameterName,InitialValue,LowerLimit,UpperLimit.')    "
   ]
  },
  {
   "cell_type": "code",
   "execution_count": 22,
   "metadata": {},
   "outputs": [],
   "source": [
    "multp_bounds = ut.read_from_control(control_file, 'multp_bounds')\n",
    "multp_bounds = os.path.join(calib_path, multp_bounds)\n",
    "np.savetxt(multp_bounds, multp_bounds_list, fmt='%s', delimiter=',',header='MultiplierName,InitialValue,LowerLimit,UpperLimit.')    "
   ]
  },
  {
   "cell_type": "code",
   "execution_count": null,
   "metadata": {},
   "outputs": [],
   "source": []
  }
 ],
 "metadata": {
  "kernelspec": {
   "display_name": "summa-env",
   "language": "python",
   "name": "summa-env"
  },
  "language_info": {
   "codemirror_mode": {
    "name": "ipython",
    "version": 3
   },
   "file_extension": ".py",
   "mimetype": "text/x-python",
   "name": "python",
   "nbconvert_exporter": "python",
   "pygments_lexer": "ipython3",
   "version": "3.9.4"
  }
 },
 "nbformat": 4,
 "nbformat_minor": 5
}
