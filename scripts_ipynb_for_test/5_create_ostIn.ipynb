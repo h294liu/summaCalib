{
 "cells": [
  {
   "cell_type": "markdown",
   "metadata": {},
   "source": [
    "#### Create ostIn.txt\n",
    "This code creates ostIn.txt based on the user specified parameter list.\n",
    "1. prepare Ostrich parameter pair files based on multiplier bounds file.\n",
    "2. write ostIn.txt based on ostIn.tpl."
   ]
  },
  {
   "cell_type": "code",
   "execution_count": 1,
   "metadata": {},
   "outputs": [],
   "source": [
    "# import module\n",
    "import os,sys\n",
    "import functions.utils as ut\n",
    "import numpy as np\n",
    "import shutil, time, sys"
   ]
  },
  {
   "cell_type": "code",
   "execution_count": 2,
   "metadata": {},
   "outputs": [],
   "source": [
    "# read paths from control_file\n",
    "control_file = 'control_active.txt'\n",
    "root_path = ut.read_from_control(control_file, 'root_path')\n",
    "domain_name = ut.read_from_control(control_file, 'domain_name')\n",
    "domain_path = os.path.join(root_path, domain_name)"
   ]
  },
  {
   "cell_type": "code",
   "execution_count": 3,
   "metadata": {},
   "outputs": [],
   "source": [
    "# read calib path\n",
    "calib_path = ut.read_from_control(control_file, 'calib_path')\n",
    "if calib_path == 'default':\n",
    "    calib_path = os.path.join(domain_path, 'calib')"
   ]
  },
  {
   "cell_type": "code",
   "execution_count": 4,
   "metadata": {},
   "outputs": [],
   "source": [
    "# create a template folder to store template files.\n",
    "calib_tpl_path = os.path.join(calib_path, 'tpl')\n",
    "if not os.path.exists(calib_tpl_path):\n",
    "    os.makedirs(calib_tpl_path)"
   ]
  },
  {
   "cell_type": "markdown",
   "metadata": {},
   "source": [
    "#### 1. Prepare Ostrich parameter pair files"
   ]
  },
  {
   "cell_type": "code",
   "execution_count": 5,
   "metadata": {},
   "outputs": [],
   "source": [
    "# read multiplier bounds file.\n",
    "multp_bounds = ut.read_from_control(control_file, 'multp_bounds')\n",
    "multp_bounds = os.path.join(calib_path, multp_bounds)\n",
    "multp_bounds_arr = np.loadtxt(multp_bounds, dtype='str', delimiter=',') # MultiplierName,InitialValue,LowerLimit,UpperLimit."
   ]
  },
  {
   "cell_type": "code",
   "execution_count": 6,
   "metadata": {},
   "outputs": [],
   "source": [
    "# write multiplier template file.\n",
    "multp_tpl = ut.read_from_control(control_file, 'multp_tpl')\n",
    "multp_tpl = os.path.join(calib_tpl_path, multp_tpl)\n",
    "np.savetxt(multp_tpl, multp_bounds_arr[:,0], fmt='%s')"
   ]
  },
  {
   "cell_type": "code",
   "execution_count": 7,
   "metadata": {},
   "outputs": [],
   "source": [
    "# write multiplier txt file.\n",
    "multp_value = ut.read_from_control(control_file, 'multp_value')\n",
    "multp_value = os.path.join(calib_path, multp_value)\n",
    "np.savetxt(multp_value, multp_bounds_arr[:,1], fmt='%s')"
   ]
  },
  {
   "cell_type": "markdown",
   "metadata": {},
   "source": [
    "#### 2. Copy ostIn.tpl to calib directory"
   ]
  },
  {
   "cell_type": "code",
   "execution_count": 8,
   "metadata": {},
   "outputs": [],
   "source": [
    "# identify ostIn template and txt file.\n",
    "ostIn_src = os.path.join(calib_tpl_path, 'ostIn.tpl')\n",
    "ostIn_dst = os.path.join(calib_path, 'ostIn.txt')\n",
    "\n",
    "# check if template ostIn file exists.\n",
    "if not os.path.exists(ostIn_src):\n",
    "    print('Template ostIn file does not exist in %s'%(calib_tpl_path))\n",
    "    sys.exit(0)"
   ]
  },
  {
   "cell_type": "markdown",
   "metadata": {},
   "source": [
    "#### 3. Write ostIn.txt based on ostIn.tpl"
   ]
  },
  {
   "cell_type": "code",
   "execution_count": 9,
   "metadata": {},
   "outputs": [],
   "source": [
    "# find out the line numbers with FilePairs and parameter configurations\n",
    "with open(ostIn_src,\"r\") as src:\n",
    "    for number, line in enumerate(src):\n",
    "        line_strip = line.strip()\n",
    "\n",
    "        if line.startswith('EndFilePairs'):\n",
    "            filePairs_line_number = number # to add filePairs config before this line\n",
    "        \n",
    "        elif line.startswith('EndParams'):\n",
    "            param_line_number = number # to add param config before this line"
   ]
  },
  {
   "cell_type": "code",
   "execution_count": 10,
   "metadata": {},
   "outputs": [],
   "source": [
    "# write ostIn.txt based on ostIn.tpl\n",
    "with open(ostIn_src,\"r\") as src:\n",
    "    with open(ostIn_dst,\"w\") as dst:\n",
    "        for number, line in enumerate(src):\n",
    "            line_strip = line.strip()\n",
    "            \n",
    "            if line_strip and (not (line_strip.startswith('#'))):  \n",
    "                \n",
    "                # (1) add param configurations \n",
    "                if number==filePairs_line_number:\n",
    "                    \n",
    "                    # file pair paths relative to calib_path \n",
    "                    tpl_relpath = os.path.relpath(multp_tpl, start = calib_path)\n",
    "                    value_relpath = os.path.relpath(multp_value, start = calib_path)\n",
    "                    # define and write a new line\n",
    "                    add_line = ('%s; %s\\n')%(tpl_relpath, value_relpath)                                \n",
    "                    dst.write(add_line)\n",
    "\n",
    "                # (2) add param configurations \n",
    "                if number==param_line_number:\n",
    "                    for i in range(len(multp_bounds_arr)):\n",
    "                        # identify param configs\n",
    "                        param_name = multp_bounds_arr[i,0]\n",
    "                        param_ini  = multp_bounds_arr[i,1]\n",
    "                        param_min  = multp_bounds_arr[i,2]\n",
    "                        param_max  = multp_bounds_arr[i,3]\n",
    "                        # define and write a new line\n",
    "                        add_line = ('%s\\t%s\\t%.7f\\t%.7f\\tnone\\tnone\\tnone\\tfree\\n')%\\\n",
    "                        (param_name, param_ini, float(param_min), float(param_max))                                 \n",
    "                        dst.write(add_line)\n",
    "                 \n",
    "                # (3) update random seed\n",
    "                if ('xxxxxxxxx' in line_strip):\n",
    "                    rand_num_digit  = 9  # digit number of random seed\n",
    "                    t          = int(time.time()*(10**rand_num_digit))\n",
    "                    t_cut      = t-(int(t/(10**rand_num_digit)))*(10**rand_num_digit)\n",
    "                    line_strip = line_strip.replace('xxxxxxxxx',str(t_cut))\n",
    "                \n",
    "                # (4) update Ostrich restart based on the existence of 'OstModel0.txt'.\n",
    "                if (line_strip.startswith('OstrichWarmStart')):\n",
    "                    if os.path.exists('OstModel0.txt'):\n",
    "                        line_strip = 'OstrichWarmStart yes' # default is no \n",
    "                        \n",
    "                # (5) update MaxIterations based on control_active.txt \n",
    "                # Note: this is applied only if the DDS algorithm is used.\n",
    "                max_iterations = ut.read_from_control(control_file, 'max_iterations')\n",
    "                if line_strip.startswith('MaxIterations'):\n",
    "                    max_iterations_old = line.split('#',1)[0].strip().split(None,1)[1]\n",
    "                    line_strip = line_strip.replace(max_iterations_old, max_iterations)                    \n",
    "                        \n",
    "            new_line = line_strip+'\\n'    \n",
    "            dst.write(new_line)"
   ]
  },
  {
   "cell_type": "code",
   "execution_count": null,
   "metadata": {},
   "outputs": [],
   "source": []
  }
 ],
 "metadata": {
  "kernelspec": {
   "display_name": "summa-env",
   "language": "python",
   "name": "summa-env"
  },
  "language_info": {
   "codemirror_mode": {
    "name": "ipython",
    "version": 3
   },
   "file_extension": ".py",
   "mimetype": "text/x-python",
   "name": "python",
   "nbconvert_exporter": "python",
   "pygments_lexer": "ipython3",
   "version": "3.9.4"
  }
 },
 "nbformat": 4,
 "nbformat_minor": 5
}
