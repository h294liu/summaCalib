{
 "cells": [
  {
   "cell_type": "markdown",
   "metadata": {},
   "source": [
    "### Prepare hydrologic model for sensitivity analysis ###\n",
    "In control file, users need to provide a source hydrologic model. This source model works as a reference to build a new hydrologic model that is used for parameter estimation or sensitivity analysis. \n",
    "This code creates the new hydrologic model by:<br>\n",
    "1. copying settings folder from source model to new model.\n",
    "2. creating simulations folder in new model.\n",
    "2. linking all other folders from source model to new model."
   ]
  },
  {
   "cell_type": "code",
   "execution_count": 1,
   "metadata": {},
   "outputs": [],
   "source": [
    "# import module\n",
    "import os\n",
    "import shutil\n",
    "from datetime import datetime\n",
    "import functions.utils as ut"
   ]
  },
  {
   "cell_type": "code",
   "execution_count": 2,
   "metadata": {},
   "outputs": [],
   "source": [
    "# read paths from control_file\n",
    "control_file = 'control_active.txt'\n",
    "root_path = ut.read_from_control(control_file, 'root_path')\n",
    "domain_name = ut.read_from_control(control_file, 'domain_name')\n",
    "domain_path = os.path.join(root_path, domain_name)\n",
    "model_src_path = ut.read_from_control(control_file, 'model_src_path')"
   ]
  },
  {
   "cell_type": "code",
   "execution_count": 3,
   "metadata": {},
   "outputs": [],
   "source": [
    "# read new hydrologic model path\n",
    "model_dst_path = ut.read_from_control(control_file, 'model_dst_path')\n",
    "if model_dst_path == 'default':\n",
    "    model_dst_path = os.path.join(domain_path, 'model')"
   ]
  },
  {
   "cell_type": "markdown",
   "metadata": {},
   "source": [
    "#### 1. Copy settings folder from source model to new model. ####"
   ]
  },
  {
   "cell_type": "code",
   "execution_count": 4,
   "metadata": {},
   "outputs": [],
   "source": [
    "scr_settings = os.path.join(model_src_path, 'settings')\n",
    "dst_settings = os.path.join(model_dst_path, 'settings')\n",
    "if os.path.exists(dst_settings):\n",
    "    shutil.rmtree(dst_settings)\n",
    "shutil.copytree(scr_settings, dst_settings, symlinks=False);"
   ]
  },
  {
   "cell_type": "markdown",
   "metadata": {},
   "source": [
    "#### 2. Create simulations folder in new model ####"
   ]
  },
  {
   "cell_type": "code",
   "execution_count": 5,
   "metadata": {},
   "outputs": [],
   "source": [
    "dst_simulations = os.path.join(model_dst_path, 'simulations')\n",
    "if not os.path.exists(dst_simulations):\n",
    "    os.makedirs(dst_simulations)"
   ]
  },
  {
   "cell_type": "markdown",
   "metadata": {},
   "source": [
    "#### 3. Link all other folders from source model to new model. ####"
   ]
  },
  {
   "cell_type": "code",
   "execution_count": 6,
   "metadata": {},
   "outputs": [],
   "source": [
    "# forcing, parameters, shapefiles folder\n",
    "for folder in ['forcing', 'parameters', 'shapefiles']:\n",
    "    scr = os.path.join(model_src_path, folder)\n",
    "    dst = os.path.join(model_dst_path, folder)\n",
    "    if not os.path.exists(dst):\n",
    "        os.symlink(scr, dst)"
   ]
  },
  {
   "cell_type": "markdown",
   "metadata": {},
   "source": [
    "#### 4. Update model paths in settings/fileManager.txt ####"
   ]
  },
  {
   "cell_type": "code",
   "execution_count": 7,
   "metadata": {},
   "outputs": [],
   "source": [
    "summa_setting_path = os.path.join(model_dst_path, 'settings/SUMMA')\n",
    "summa_filemanager = ut.read_from_control(control_file, 'summa_filemanager')\n",
    "summa_filemanager_temp = summa_filemanager.split('.txt')[0]+'_temp.txt'\n",
    "\n",
    "summa_filemanager = os.path.join(summa_setting_path, summa_filemanager)\n",
    "summa_filemanager_temp = os.path.join(summa_setting_path, summa_filemanager_temp)\n",
    "\n",
    "with open(summa_filemanager, 'r') as src:\n",
    "    with open(summa_filemanager_temp, 'w') as dst:\n",
    "        for line in src:\n",
    "            if model_src_path in line:\n",
    "                line = line.replace(model_src_path, model_dst_path)\n",
    "            dst.write(line)\n",
    "shutil.copy2(summa_filemanager_temp, summa_filemanager);\n",
    "os.remove(summa_filemanager_temp);"
   ]
  },
  {
   "cell_type": "code",
   "execution_count": null,
   "metadata": {},
   "outputs": [],
   "source": []
  }
 ],
 "metadata": {
  "kernelspec": {
   "display_name": "summa-env",
   "language": "python",
   "name": "summa-env"
  },
  "language_info": {
   "codemirror_mode": {
    "name": "ipython",
    "version": 3
   },
   "file_extension": ".py",
   "mimetype": "text/x-python",
   "name": "python",
   "nbconvert_exporter": "python",
   "pygments_lexer": "ipython3",
   "version": "3.9.4"
  }
 },
 "nbformat": 4,
 "nbformat_minor": 4
}
