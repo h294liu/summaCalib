{
 "cells": [
  {
   "cell_type": "markdown",
   "id": "d4b28e69",
   "metadata": {},
   "source": [
    "### Make folder structure ###"
   ]
  },
  {
   "cell_type": "markdown",
   "id": "02370966",
   "metadata": {},
   "source": [
    "Make the initial folder structure based on a given control file. All other files in the workflow will look for the file 'control_active.txt' during their execution. This script:<br>\n",
    "1. copy the template control file into 'control_active.txt'.\n",
    "2. make folder for sensitivity analysis."
   ]
  },
  {
   "cell_type": "code",
   "execution_count": 4,
   "id": "d3b1447a",
   "metadata": {},
   "outputs": [],
   "source": [
    "# specify the template control file to use\n",
    "control_tpl = '/Users/hongliliu/Documents/github/summaCalib/control.tpl' "
   ]
  },
  {
   "cell_type": "markdown",
   "id": "8b942574",
   "metadata": {},
   "source": [
    "Don't change below this line."
   ]
  },
  {
   "cell_type": "code",
   "execution_count": 5,
   "id": "e1646564",
   "metadata": {},
   "outputs": [],
   "source": [
    "# import module\n",
    "import os\n",
    "import shutil\n",
    "from datetime import datetime\n",
    "import functions.utils as ut"
   ]
  },
  {
   "cell_type": "markdown",
   "id": "3c53ada6",
   "metadata": {},
   "source": [
    "#### Copy template control file into 'control_active.txt' ####"
   ]
  },
  {
   "cell_type": "code",
   "execution_count": 6,
   "id": "da66bdfe",
   "metadata": {},
   "outputs": [],
   "source": [
    "# copy the contro_file into control_active.txt\n",
    "control_file = 'control_active.txt'\n",
    "shutil.copyfile(control_tpl, control_file);"
   ]
  },
  {
   "cell_type": "markdown",
   "id": "80b3fdf0",
   "metadata": {},
   "source": [
    "#### Make folders ####"
   ]
  },
  {
   "cell_type": "code",
   "execution_count": 7,
   "id": "6928fd84",
   "metadata": {},
   "outputs": [],
   "source": [
    "# read paths from control_file\n",
    "root_path = ut.read_from_control(control_file, 'root_path')\n",
    "domain_name = ut.read_from_control(control_file, 'domain_name')\n",
    "domain_path = os.path.join(root_path, domain_name)"
   ]
  },
  {
   "cell_type": "markdown",
   "id": "13f0082b-5e61-452c-9b63-43a82ff2424e",
   "metadata": {},
   "source": [
    "#### 1. Root and domain folders"
   ]
  },
  {
   "cell_type": "code",
   "execution_count": 8,
   "id": "0e2b49c1",
   "metadata": {
    "tags": []
   },
   "outputs": [],
   "source": [
    "# create root_path where data will be stored. \n",
    "if not os.path.exists(root_path):\n",
    "    os.makedirs(root_path)\n",
    "\n",
    "# create domain_path where domain relevant data will be stored. \n",
    "if not os.path.exists(domain_path):\n",
    "    os.makedirs(domain_path)"
   ]
  },
  {
   "cell_type": "markdown",
   "id": "79befe54-fde9-4115-bc6b-8e97d1700e02",
   "metadata": {},
   "source": [
    "#### 2. Hydrologic model folders"
   ]
  },
  {
   "cell_type": "code",
   "execution_count": 9,
   "id": "160f35d3",
   "metadata": {},
   "outputs": [],
   "source": [
    "# check if model_src_path exists which works as a template hydrlogic model. \n",
    "model_src_path = ut.read_from_control(control_file, 'model_src_path')\n",
    "if not os.path.exists(model_src_path):\n",
    "    print('Source model does not eixst: %s.'%(model_src_path))\n",
    "\n",
    "# make model_dst_path\n",
    "model_dst_path = ut.read_from_control(control_file, 'model_dst_path')\n",
    "if model_dst_path == 'default':\n",
    "    model_dst_path = os.path.join(domain_path, 'model')\n",
    "if not os.path.exists(model_dst_path):\n",
    "    os.makedirs(model_dst_path)"
   ]
  },
  {
   "cell_type": "markdown",
   "id": "ceb2708a-b2fd-4f9f-90c4-fc9aa6ca5bb6",
   "metadata": {},
   "source": [
    "#### 3. Snesitivity analysis folders"
   ]
  },
  {
   "cell_type": "code",
   "execution_count": 10,
   "id": "24ab6fc8-1ded-4f7e-b236-d895245ba651",
   "metadata": {},
   "outputs": [],
   "source": [
    "# create calib_path where parameter estimation results will be stored.\n",
    "calib_path = ut.read_from_control(control_file, 'calib_path')\n",
    "if calib_path == 'default':\n",
    "    calib_path = os.path.join(domain_path, 'calib')\n",
    "if not os.path.exists(calib_path):\n",
    "    os.makedirs(calib_path)\n",
    "    \n",
    "# create analysis_path where analysis will be stored.\n",
    "analysis_path = os.path.join(calib_path, 'analysis')\n",
    "if not os.path.exists(analysis_path):\n",
    "    os.makedirs(analysis_path)\n",
    "\n",
    "# make output_archive where the final best parameter information will be stored.\n",
    "model_output_path = os.path.join(calib_path, 'output_archive')"
   ]
  },
  {
   "cell_type": "markdown",
   "id": "6c721639",
   "metadata": {},
   "source": [
    "#### Code provenance\n",
    "Generates a basic log file in the domain folder and copies the control_active.txt and param_active.txt there."
   ]
  },
  {
   "cell_type": "code",
   "execution_count": 11,
   "id": "b2933ee6",
   "metadata": {},
   "outputs": [],
   "source": [
    "# create log_path where bakcup and log files will be stored.\n",
    "log_path = os.path.join(domain_path, '_workflow_log')\n",
    "if not os.path.exists(log_path):\n",
    "    os.makedirs(log_path)\n",
    "\n",
    "# copy control_active.txt for backup\n",
    "shutil.copy(control_file, log_path);\n",
    "\n",
    "# Create a log file \n",
    "logFile = 'log.txt'\n",
    "now = datetime.now()\n",
    "with open(os.path.join(log_path,logFile), 'w') as file:\n",
    "    \n",
    "    lines = ['%s. Generated folder structure.'%(now.strftime('%Y/%m/%d %H:%M:%S'))]\n",
    "    for txt in lines:\n",
    "        file.write(txt)   "
   ]
  },
  {
   "cell_type": "code",
   "execution_count": null,
   "id": "5377e2fe",
   "metadata": {},
   "outputs": [],
   "source": []
  }
 ],
 "metadata": {
  "kernelspec": {
   "display_name": "summa-env",
   "language": "python",
   "name": "summa-env"
  },
  "language_info": {
   "codemirror_mode": {
    "name": "ipython",
    "version": 3
   },
   "file_extension": ".py",
   "mimetype": "text/x-python",
   "name": "python",
   "nbconvert_exporter": "python",
   "pygments_lexer": "ipython3",
   "version": "3.9.4"
  }
 },
 "nbformat": 4,
 "nbformat_minor": 5
}
