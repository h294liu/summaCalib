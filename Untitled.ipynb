{
 "cells": [
  {
   "cell_type": "code",
   "execution_count": null,
   "id": "51e55801-8bf3-4288-b34b-f879dcd9df95",
   "metadata": {},
   "outputs": [],
   "source": [
    "# --- read observed flow (cfs or cms) --- \n",
    "\n",
    "df_obs = pd.read_csv(obs_file, index_col='Date', na_values=[\"-99.0\",\"-999.0\",\"-9999.0\"],\n",
    "                     parse_dates=True, infer_datetime_format=True)  \n",
    "df_obs.columns = ['obs']\n",
    "\n",
    "# convert obs from cfs to cms\n",
    "if obs_unit == 'cfs':\n",
    "    df_obs = df_obs/35.3147    \n"
   ]
  }
 ],
 "metadata": {
  "kernelspec": {
   "display_name": "conda_hongli",
   "language": "python",
   "name": "conda_hongli"
  },
  "language_info": {
   "codemirror_mode": {
    "name": "ipython",
    "version": 3
   },
   "file_extension": ".py",
   "mimetype": "text/x-python",
   "name": "python",
   "nbconvert_exporter": "python",
   "pygments_lexer": "ipython3",
   "version": "3.8.3"
  }
 },
 "nbformat": 4,
 "nbformat_minor": 5
}
